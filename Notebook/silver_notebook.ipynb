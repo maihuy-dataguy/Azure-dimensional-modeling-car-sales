{
 "cells": [
  {
   "cell_type": "markdown",
   "metadata": {
    "application/vnd.databricks.v1+cell": {
     "cellMetadata": {},
     "inputWidgets": {},
     "nuid": "8ee9a10f-3e77-4a0e-a990-2b7ebeaf5fee",
     "showTitle": false,
     "tableResultSettingsMap": {},
     "title": ""
    }
   },
   "source": [
    "# Import libraries and directories"
   ]
  },
  {
   "cell_type": "code",
   "execution_count": 0,
   "metadata": {
    "application/vnd.databricks.v1+cell": {
     "cellMetadata": {
      "byteLimit": 2048000,
      "rowLimit": 10000
     },
     "inputWidgets": {},
     "nuid": "ce135618-7f77-45cb-9bfe-aead18b9fe08",
     "showTitle": false,
     "tableResultSettingsMap": {},
     "title": ""
    }
   },
   "outputs": [],
   "source": [
    "from pyspark.sql.functions import *\n",
    "from pyspark.sql.types import *\n",
    "\n",
    "layers = ['bronze','silver','gold']\n",
    "adls = {layer: f'abfss://{layer}@carhuymdatalake.dfs.core.windows.net' for layer in layers}\n",
    "\n",
    "adls_bronze = adls['bronze']\n",
    "adls_silver = adls['silver']\n",
    "adls_gold = adls['gold']\n",
    "\n",
    "dbutils.widgets.text('date_id','DT00000')\n",
    "date_id = dbutils.widgets.get('date_id')"
   ]
  },
  {
   "cell_type": "code",
   "execution_count": 0,
   "metadata": {
    "application/vnd.databricks.v1+cell": {
     "cellMetadata": {
      "byteLimit": 2048000,
      "rowLimit": 10000
     },
     "inputWidgets": {},
     "nuid": "17bad8b3-cb1f-4b6a-9de9-3908f518c35f",
     "showTitle": false,
     "tableResultSettingsMap": {},
     "title": ""
    }
   },
   "outputs": [
    {
     "output_type": "stream",
     "name": "stdout",
     "output_type": "stream",
     "text": [
      "[FileInfo(path='abfss://bronze@carhuymdatalake.dfs.core.windows.net/raw_data/', name='raw_data/', size=0, modificationTime=1738151512000)]\n[FileInfo(path='abfss://silver@carhuymdatalake.dfs.core.windows.net/car_sales/', name='car_sales/', size=0, modificationTime=1738171501000)]\n[FileInfo(path='abfss://gold@carhuymdatalake.dfs.core.windows.net/dim_branch/', name='dim_branch/', size=0, modificationTime=1738262139000), FileInfo(path='abfss://gold@carhuymdatalake.dfs.core.windows.net/dim_date/', name='dim_date/', size=0, modificationTime=1738259033000), FileInfo(path='abfss://gold@carhuymdatalake.dfs.core.windows.net/dim_dealer/', name='dim_dealer/', size=0, modificationTime=1738258376000), FileInfo(path='abfss://gold@carhuymdatalake.dfs.core.windows.net/dim_model/', name='dim_model/', size=0, modificationTime=1738258878000), FileInfo(path='abfss://gold@carhuymdatalake.dfs.core.windows.net/fact_sales/', name='fact_sales/', size=0, modificationTime=1738262253000)]\n"
     ]
    }
   ],
   "source": [
    "print(dbutils.fs.ls(adls_bronze))\n",
    "print(dbutils.fs.ls(adls_silver))\n",
    "print(dbutils.fs.ls(adls_gold))"
   ]
  },
  {
   "cell_type": "markdown",
   "metadata": {
    "application/vnd.databricks.v1+cell": {
     "cellMetadata": {},
     "inputWidgets": {},
     "nuid": "9ad95692-4bf2-40d5-a674-425ca643a4eb",
     "showTitle": false,
     "tableResultSettingsMap": {},
     "title": ""
    }
   },
   "source": [
    "# Data Reading"
   ]
  },
  {
   "cell_type": "code",
   "execution_count": 0,
   "metadata": {
    "application/vnd.databricks.v1+cell": {
     "cellMetadata": {
      "byteLimit": 2048000,
      "rowLimit": 10000
     },
     "inputWidgets": {},
     "nuid": "4ab11ab1-bd3b-487a-9a94-8f8fc9a91395",
     "showTitle": false,
     "tableResultSettingsMap": {},
     "title": ""
    }
   },
   "outputs": [],
   "source": [
    "df = spark.read.format('parquet') \\\n",
    "    .option('header','True')\\\n",
    "    .option('inferSchema','True')\\\n",
    "    .load(f'{adls_bronze}/raw_data/carsales-{date_id}.parquet')"
   ]
  },
  {
   "cell_type": "markdown",
   "metadata": {
    "application/vnd.databricks.v1+cell": {
     "cellMetadata": {
      "byteLimit": 2048000,
      "rowLimit": 10000
     },
     "inputWidgets": {},
     "nuid": "428098a8-c484-4ebf-aa82-c7f682885cd9",
     "showTitle": false,
     "tableResultSettingsMap": {},
     "title": ""
    }
   },
   "source": [
    "# Data Transformation"
   ]
  },
  {
   "cell_type": "code",
   "execution_count": 0,
   "metadata": {
    "application/vnd.databricks.v1+cell": {
     "cellMetadata": {
      "byteLimit": 2048000,
      "rowLimit": 10000
     },
     "inputWidgets": {},
     "nuid": "987a5514-f544-43a7-9a2e-c27d78a96ae4",
     "showTitle": false,
     "tableResultSettingsMap": {},
     "title": ""
    }
   },
   "outputs": [],
   "source": [
    "df = df.withColumn('model_category',split(col('Model_ID',),'-')[0])"
   ]
  },
  {
   "cell_type": "code",
   "execution_count": 0,
   "metadata": {
    "application/vnd.databricks.v1+cell": {
     "cellMetadata": {
      "byteLimit": 2048000,
      "rowLimit": 10000
     },
     "inputWidgets": {},
     "nuid": "21153e2a-12b6-4c6d-8940-06639a25ee1d",
     "showTitle": false,
     "tableResultSettingsMap": {},
     "title": ""
    }
   },
   "outputs": [],
   "source": [
    "df = df.withColumn('RevPerUnit',col('Revenue')/col('Units_Sold'))"
   ]
  },
  {
   "cell_type": "markdown",
   "metadata": {
    "application/vnd.databricks.v1+cell": {
     "cellMetadata": {
      "byteLimit": 2048000,
      "rowLimit": 10000
     },
     "inputWidgets": {},
     "nuid": "7ad830c2-651f-4edc-95a8-dd076864b9ca",
     "showTitle": false,
     "tableResultSettingsMap": {},
     "title": ""
    }
   },
   "source": [
    "# AD-Hoc"
   ]
  },
  {
   "cell_type": "code",
   "execution_count": 0,
   "metadata": {
    "application/vnd.databricks.v1+cell": {
     "cellMetadata": {
      "byteLimit": 2048000,
      "rowLimit": 10000
     },
     "inputWidgets": {},
     "nuid": "5753f447-d66f-4097-832b-a121ade97726",
     "showTitle": false,
     "tableResultSettingsMap": {},
     "title": ""
    }
   },
   "outputs": [
    {
     "output_type": "display_data",
     "data": {
      "text/html": [
       "<style scoped>\n",
       "  .table-result-container {\n",
       "    max-height: 300px;\n",
       "    overflow: auto;\n",
       "  }\n",
       "  table, th, td {\n",
       "    border: 1px solid black;\n",
       "    border-collapse: collapse;\n",
       "  }\n",
       "  th, td {\n",
       "    padding: 5px;\n",
       "  }\n",
       "  th {\n",
       "    text-align: left;\n",
       "  }\n",
       "</style><div class='table-result-container'><table class='table-result'><thead style='background-color: white'><tr><th>year</th><th>BranchName</th><th>Total_Units_Sold</th></tr></thead><tbody><tr><td>2017</td><td>Alpine Motors</td><td>24</td></tr><tr><td>2017</td><td>Bristol Motors</td><td>23</td></tr><tr><td>2017</td><td>Acura Motors</td><td>23</td></tr><tr><td>2017</td><td>BMW Motors</td><td>23</td></tr><tr><td>2017</td><td>Aston Martin Motors</td><td>23</td></tr><tr><td>2017</td><td>Ariel Motors</td><td>21</td></tr><tr><td>2017</td><td>Daihatsu Motors</td><td>21</td></tr><tr><td>2017</td><td>Gilbern Motors</td><td>21</td></tr><tr><td>2017</td><td>Asia Motors Motors</td><td>20</td></tr><tr><td>2017</td><td>Anadol Motors</td><td>19</td></tr><tr><td>2017</td><td>AC Cars Motors</td><td>19</td></tr><tr><td>2017</td><td>DAF Motors</td><td>19</td></tr><tr><td>2017</td><td>DeLorean Motors</td><td>19</td></tr><tr><td>2017</td><td>AMC, Eagle Motors</td><td>18</td></tr><tr><td>2017</td><td>Auto-Union Motors</td><td>18</td></tr><tr><td>2017</td><td>Glas Motors</td><td>18</td></tr><tr><td>2017</td><td>Alvis Motors</td><td>17</td></tr><tr><td>2017</td><td>Caterham Motors</td><td>17</td></tr><tr><td>2017</td><td>Datsun Motors</td><td>17</td></tr><tr><td>2017</td><td>Borgward (including Goliath and Lloyd) Motors</td><td>16</td></tr><tr><td>2017</td><td>Chevrolet India Motors</td><td>16</td></tr><tr><td>2017</td><td>Dodge Motors</td><td>16</td></tr><tr><td>2017</td><td>FSO Motors</td><td>16</td></tr><tr><td>2017</td><td>Ginetta Motors</td><td>16</td></tr><tr><td>2017</td><td>Cadillac Motors</td><td>16</td></tr><tr><td>2017</td><td>Daewoo, Saehan, Chevrolet Korea Motors</td><td>15</td></tr><tr><td>2017</td><td>Freightliner Motors</td><td>15</td></tr><tr><td>2017</td><td>Aixam-Mega (including Arola) Motors</td><td>15</td></tr><tr><td>2017</td><td>British Leyland Motors</td><td>15</td></tr><tr><td>2017</td><td>Chrysler Europe Motors</td><td>15</td></tr><tr><td>2017</td><td>e.GO Mobile Motors</td><td>15</td></tr><tr><td>2017</td><td>Buick Motors</td><td>15</td></tr><tr><td>2017</td><td>GMC Motors</td><td>15</td></tr><tr><td>2017</td><td>Delahaye Motors</td><td>14</td></tr><tr><td>2017</td><td>Bentley Motors</td><td>14</td></tr><tr><td>2017</td><td>Citroën Motors</td><td>14</td></tr><tr><td>2017</td><td>Cizeta-Moroder Motors</td><td>14</td></tr><tr><td>2017</td><td>Gumpert Motors</td><td>14</td></tr><tr><td>2017</td><td>Ford America Motors</td><td>14</td></tr><tr><td>2017</td><td>Bond Motors</td><td>14</td></tr><tr><td>2017</td><td>DeSoto Motors</td><td>14</td></tr><tr><td>2017</td><td>Artega Motors</td><td>14</td></tr><tr><td>2017</td><td>Alfa Romeo Motors</td><td>14</td></tr><tr><td>2017</td><td>Fiat do Brasil Motors</td><td>13</td></tr><tr><td>2017</td><td>Healey Motors</td><td>13</td></tr><tr><td>2017</td><td>Geo Motors</td><td>13</td></tr><tr><td>2017</td><td>Dacia Motors</td><td>13</td></tr><tr><td>2017</td><td>Ford do Brasil Motors</td><td>13</td></tr><tr><td>2017</td><td>Bitter Motors</td><td>13</td></tr><tr><td>2017</td><td>Chevrolet Motors</td><td>12</td></tr><tr><td>2017</td><td>Audi Motors</td><td>12</td></tr><tr><td>2017</td><td>Bugatti Motors</td><td>12</td></tr><tr><td>2017</td><td>Ford Europe Motors</td><td>12</td></tr><tr><td>2017</td><td>Ford Australia Motors</td><td>12</td></tr><tr><td>2017</td><td>Fiat Motors</td><td>12</td></tr><tr><td>2017</td><td>Chrysler Motors</td><td>12</td></tr><tr><td>2017</td><td>Heinkel Motors</td><td>12</td></tr><tr><td>2017</td><td>ARO Motors</td><td>11</td></tr><tr><td>2017</td><td>Ford India Motors</td><td>11</td></tr><tr><td>2017</td><td>Eicher Polaris Motors</td><td>11</td></tr><tr><td>2017</td><td>Austin, Rover Motors</td><td>11</td></tr><tr><td>2017</td><td>Auverland Motors</td><td>11</td></tr><tr><td>2017</td><td>Fiat India Motors</td><td>11</td></tr><tr><td>2017</td><td>Ferrari Motors</td><td>11</td></tr><tr><td>2017</td><td>Checker Motors</td><td>10</td></tr><tr><td>2017</td><td>Elva Motors</td><td>10</td></tr><tr><td>2017</td><td>Donkervoort Motors</td><td>10</td></tr><tr><td>2017</td><td>Edsel Motors</td><td>10</td></tr><tr><td>2017</td><td>GAZ Motors</td><td>10</td></tr><tr><td>2017</td><td>GTA Spano Motors</td><td>9</td></tr><tr><td>2017</td><td>Austin-Healey Motors</td><td>9</td></tr><tr><td>2017</td><td>Fisker, Karma Motors</td><td>9</td></tr><tr><td>2017</td><td>De Tomaso Motors</td><td>8</td></tr><tr><td>2017</td><td>Autobianchi Motors</td><td>7</td></tr><tr><td>2017</td><td>Daimler Motors</td><td>7</td></tr><tr><td>2017</td><td>Bytom Motors</td><td>5</td></tr><tr><td>2017</td><td>Facel Vega Motors</td><td>3</td></tr><tr><td>2017</td><td>Hennessey Motors</td><td>2</td></tr><tr><td>2018</td><td>Maruti Motors</td><td>20</td></tr><tr><td>2018</td><td>Lamborghini Motors</td><td>20</td></tr><tr><td>2018</td><td>Packard Motors</td><td>19</td></tr><tr><td>2018</td><td>Mastretta Motors</td><td>19</td></tr><tr><td>2018</td><td>Jeep Motors</td><td>18</td></tr><tr><td>2018</td><td>Naza Motors</td><td>18</td></tr><tr><td>2018</td><td>Micro Motors</td><td>17</td></tr><tr><td>2018</td><td>Noble Motors</td><td>17</td></tr><tr><td>2018</td><td>Matra (including Deutsch-Bonnet, René Bonnet) Motors</td><td>17</td></tr><tr><td>2018</td><td>Opel Motors</td><td>16</td></tr><tr><td>2018</td><td>Iso Motors</td><td>16</td></tr><tr><td>2018</td><td>Innocenti Motors</td><td>16</td></tr><tr><td>2018</td><td>Jensen Motors</td><td>16</td></tr><tr><td>2018</td><td>Merkur Motors</td><td>16</td></tr><tr><td>2018</td><td>Invicta Motors</td><td>16</td></tr><tr><td>2018</td><td>Koenigsegg Motors</td><td>16</td></tr><tr><td>2018</td><td>Peugeot Motors</td><td>16</td></tr><tr><td>2018</td><td>Isuzu Motors</td><td>15</td></tr><tr><td>2018</td><td>Jaguar Motors</td><td>15</td></tr><tr><td>2018</td><td>Honda India Motors</td><td>15</td></tr><tr><td>2018</td><td>McLaren Motors</td><td>15</td></tr><tr><td>2018</td><td>LuAZ Motors</td><td>15</td></tr><tr><td>2018</td><td>Perodua Motors</td><td>15</td></tr><tr><td>2018</td><td>Holden Motors</td><td>15</td></tr><tr><td>2018</td><td>Marcos Motors</td><td>15</td></tr><tr><td>2018</td><td>Mini Motors</td><td>14</td></tr><tr><td>2018</td><td>Nissan India Motors</td><td>14</td></tr><tr><td>2018</td><td>Hudson Motors</td><td>14</td></tr><tr><td>2018</td><td>Isotta Fraschini Motors</td><td>14</td></tr><tr><td>2018</td><td>Mazzanti Motors</td><td>14</td></tr><tr><td>2018</td><td>Lancia Motors</td><td>14</td></tr><tr><td>2018</td><td>Panhard Motors</td><td>14</td></tr><tr><td>2018</td><td>NSU Motors</td><td>14</td></tr><tr><td>2018</td><td>Lexus Motors</td><td>14</td></tr><tr><td>2018</td><td>Hummer Motors</td><td>14</td></tr><tr><td>2018</td><td>Honda Motors</td><td>14</td></tr><tr><td>2018</td><td>Maserati Motors</td><td>13</td></tr><tr><td>2018</td><td>Mazda Motors</td><td>13</td></tr><tr><td>2018</td><td>Mitsubishi Motors</td><td>13</td></tr><tr><td>2018</td><td>IFA (including Trabant, Wartburg, Barkas) Motors</td><td>13</td></tr><tr><td>2018</td><td>Mercedes-Benz (including Maybach) Motors</td><td>13</td></tr><tr><td>2018</td><td>JPX Motors</td><td>13</td></tr><tr><td>2018</td><td>LTI Motors</td><td>13</td></tr><tr><td>2018</td><td>Hyundai Motors</td><td>13</td></tr><tr><td>2018</td><td>Oldsmobile Motors</td><td>12</td></tr><tr><td>2018</td><td>Mia Motors</td><td>12</td></tr><tr><td>2018</td><td>Marlin Motors</td><td>12</td></tr><tr><td>2018</td><td>Land Rover Motors</td><td>11</td></tr><tr><td>2018</td><td>Moskwitch Motors</td><td>11</td></tr><tr><td>2018</td><td>Lincoln Motors</td><td>11</td></tr><tr><td>2018</td><td>Kia Motors</td><td>11</td></tr><tr><td>2018</td><td>KTM Motors</td><td>11</td></tr><tr><td>2018</td><td>Hillman Motors</td><td>11</td></tr><tr><td>2018</td><td>Nash Motors</td><td>11</td></tr><tr><td>2018</td><td>Monica Motors</td><td>11</td></tr><tr><td>2018</td><td>Iveco Motors</td><td>10</td></tr><tr><td>2018</td><td>Mahindra Motors</td><td>10</td></tr><tr><td>2018</td><td>Messerschmitt Motors</td><td>10</td></tr><tr><td>2018</td><td>Mercury Motors</td><td>10</td></tr><tr><td>2018</td><td>Peel Motors</td><td>10</td></tr><tr><td>2018</td><td>Humber Motors</td><td>10</td></tr><tr><td>2018</td><td>Lotus Motors</td><td>10</td></tr><tr><td>2018</td><td>Nissan Motors</td><td>9</td></tr><tr><td>2018</td><td>Infiniti Motors</td><td>9</td></tr><tr><td>2018</td><td>Pagani Motors</td><td>9</td></tr><tr><td>2018</td><td>Monteverdi Motors</td><td>9</td></tr><tr><td>2018</td><td>Isdera Motors</td><td>9</td></tr><tr><td>2018</td><td>Hindustan Motors</td><td>9</td></tr><tr><td>2018</td><td>Panther Motors</td><td>9</td></tr><tr><td>2018</td><td>Lada Motors</td><td>9</td></tr><tr><td>2018</td><td>Oltcit Motors</td><td>8</td></tr><tr><td>2018</td><td>Panoz Motors</td><td>7</td></tr><tr><td>2018</td><td>Lynx Motors</td><td>7</td></tr><tr><td>2018</td><td>PGO Motors</td><td>6</td></tr><tr><td>2018</td><td>Hennessey Motors</td><td>6</td></tr><tr><td>2018</td><td>Morgan Motors</td><td>5</td></tr><tr><td>2018</td><td>Ligier Motors</td><td>4</td></tr><tr><td>2018</td><td>Santana Motors</td><td>3</td></tr><tr><td>2018</td><td>Kindel Building</td><td>3</td></tr><tr><td>2018</td><td>Blankinship Motor Company Building</td><td>3</td></tr><tr><td>2018</td><td>Vauxhall Motors</td><td>3</td></tr><tr><td>2018</td><td>Herald Motors</td><td>3</td></tr><tr><td>2018</td><td>Simca Motors</td><td>3</td></tr><tr><td>2018</td><td>Lagonda  Motors</td><td>3</td></tr><tr><td>2018</td><td>Tesla Motors</td><td>3</td></tr><tr><td>2018</td><td>Cass Motor Sales</td><td>3</td></tr><tr><td>2018</td><td>UAZ Motors</td><td>3</td></tr><tr><td>2018</td><td>Sunbeam Motors</td><td>3</td></tr><tr><td>2018</td><td>Auto-Union Motors</td><td>3</td></tr><tr><td>2018</td><td>Borgward (including Goliath and Lloyd) Motors</td><td>3</td></tr><tr><td>2018</td><td>MG  Motors</td><td>3</td></tr><tr><td>2018</td><td>Audi Motors</td><td>3</td></tr><tr><td>2018</td><td>Jennings Ford Automobile Dealership</td><td>3</td></tr><tr><td>2018</td><td>Zastava Motors</td><td>3</td></tr><tr><td>2018</td><td>Tatra Motors</td><td>3</td></tr><tr><td>2018</td><td>Casa de cadillac</td><td>3</td></tr><tr><td>2018</td><td>Izh  Motors</td><td>3</td></tr><tr><td>2018</td><td>Zion Automobils</td><td>3</td></tr><tr><td>2018</td><td>Volkswagen Motors</td><td>2</td></tr><tr><td>2018</td><td>Tata Motors</td><td>2</td></tr><tr><td>2018</td><td>Hupmobile Building</td><td>2</td></tr><tr><td>2018</td><td>Tazzari Motors</td><td>2</td></tr><tr><td>2018</td><td>Volvo Motors</td><td>2</td></tr><tr><td>2018</td><td>Simca do Brasil Motors</td><td>2</td></tr><tr><td>2018</td><td>Turner Motors</td><td>2</td></tr><tr><td>2018</td><td>Colman Automotive Building</td><td>2</td></tr><tr><td>2018</td><td>Saturn Motors</td><td>2</td></tr><tr><td>2018</td><td>Bentley Motors</td><td>2</td></tr><tr><td>2018</td><td>Atlantic Motor Company</td><td>2</td></tr><tr><td>2018</td><td>Volkswagen do Brasil Motors</td><td>2</td></tr><tr><td>2018</td><td>Howard Motor Company Building</td><td>2</td></tr><tr><td>2018</td><td>Westfield Motors</td><td>2</td></tr><tr><td>2018</td><td>British Leyland Motors</td><td>2</td></tr><tr><td>2018</td><td>Santa Matilde Motors</td><td>2</td></tr><tr><td>2018</td><td>Saleen Motors</td><td>2</td></tr><tr><td>2018</td><td>Volkswagen South Africa Motors</td><td>2</td></tr><tr><td>2018</td><td>Bristol Motors</td><td>2</td></tr><tr><td>2018</td><td>Deccan Motors</td><td>2</td></tr><tr><td>2018</td><td>Singer Motors</td><td>2</td></tr><tr><td>2018</td><td>Cadillac Automobile Company Building</td><td>2</td></tr><tr><td>2018</td><td>Samsung Motors</td><td>2</td></tr><tr><td>2018</td><td>Jones Motor Company</td><td>2</td></tr><tr><td>2018</td><td>Standard  Motors</td><td>2</td></tr><tr><td>2018</td><td>Piaggio Motors</td><td>2</td></tr><tr><td>2018</td><td>Spyker Motors</td><td>2</td></tr><tr><td>2018</td><td>SAIC Motor Motors</td><td>2</td></tr><tr><td>2018</td><td>Shelby SuperCars Motors</td><td>2</td></tr><tr><td>2018</td><td>Wolseley  Motors</td><td>1</td></tr><tr><td>2018</td><td>Scion Motors</td><td>1</td></tr><tr><td>2018</td><td>Standard-Triumph Motors</td><td>1</td></tr><tr><td>2018</td><td>BMW Motors</td><td>1</td></tr><tr><td>2018</td><td>Auverland Motors</td><td>1</td></tr><tr><td>2018</td><td>Tornado Motors</td><td>1</td></tr><tr><td>2018</td><td>Bohn Motor Company Automobile Dealership</td><td>1</td></tr><tr><td>2018</td><td>Autobianchi Motors</td><td>1</td></tr><tr><td>2018</td><td>Seat Motors</td><td>1</td></tr><tr><td>2018</td><td>Riley  Motors</td><td>1</td></tr><tr><td>2018</td><td>Ramani Motors</td><td>1</td></tr><tr><td>2018</td><td>Horch Motors</td><td>1</td></tr><tr><td>2018</td><td>Toyota Motors</td><td>1</td></tr><tr><td>2018</td><td>ZIL Motors</td><td>1</td></tr><tr><td>2018</td><td>Buick Automobile Company Building</td><td>1</td></tr><tr><td>2018</td><td>Saab Motors</td><td>1</td></tr><tr><td>2018</td><td>Bitter Motors</td><td>1</td></tr><tr><td>2018</td><td>Maybach  Motors</td><td>1</td></tr><tr><td>2018</td><td>Das Motors</td><td>1</td></tr><tr><td>2019</td><td>Tazzari Motors</td><td>21</td></tr><tr><td>2019</td><td>Izh  Motors</td><td>20</td></tr><tr><td>2019</td><td>Polestar Motors</td><td>19</td></tr><tr><td>2019</td><td>Spyker Motors</td><td>19</td></tr><tr><td>2019</td><td>San Motors</td><td>19</td></tr><tr><td>2019</td><td>Volkswagen do Brasil Motors</td><td>18</td></tr><tr><td>2019</td><td>Volkswagen Motors</td><td>18</td></tr><tr><td>2019</td><td>Scion Motors</td><td>18</td></tr><tr><td>2019</td><td>Standard  Motors</td><td>18</td></tr><tr><td>2019</td><td>Tesla Motors</td><td>18</td></tr><tr><td>2019</td><td>Horch Motors</td><td>18</td></tr><tr><td>2019</td><td>Seat Motors</td><td>18</td></tr><tr><td>2019</td><td>SsangYong Motors</td><td>18</td></tr><tr><td>2019</td><td>Westfield Motors</td><td>18</td></tr><tr><td>2019</td><td>Turner Motors</td><td>18</td></tr><tr><td>2019</td><td>Rivian Motors</td><td>17</td></tr><tr><td>2019</td><td>Plymouth Motors</td><td>17</td></tr><tr><td>2019</td><td>Proton Motors</td><td>17</td></tr><tr><td>2019</td><td>Tornado Motors</td><td>16</td></tr><tr><td>2019</td><td>Smart Motors</td><td>16</td></tr><tr><td>2019</td><td>Saturn Motors</td><td>16</td></tr><tr><td>2019</td><td>Lagonda  Motors</td><td>16</td></tr><tr><td>2019</td><td>Saab Motors</td><td>16</td></tr><tr><td>2019</td><td>Reliant Motors</td><td>16</td></tr><tr><td>2019</td><td>Santa Matilde Motors</td><td>16</td></tr><tr><td>2019</td><td>Simca do Brasil Motors</td><td>16</td></tr><tr><td>2019</td><td>Subaru Motors</td><td>16</td></tr><tr><td>2019</td><td>Studebaker Motors</td><td>16</td></tr><tr><td>2019</td><td>Morris  Motors</td><td>15</td></tr><tr><td>2019</td><td>Deccan Motors</td><td>15</td></tr><tr><td>2019</td><td>Standard-Triumph Motors</td><td>15</td></tr><tr><td>2019</td><td>Volkswagen South Africa Motors</td><td>15</td></tr><tr><td>2019</td><td>Puma Motors</td><td>15</td></tr><tr><td>2019</td><td>SAIC Motor Motors</td><td>15</td></tr><tr><td>2019</td><td>Toyota India Motors</td><td>15</td></tr><tr><td>2019</td><td>Vauxhall Motors</td><td>14</td></tr><tr><td>2019</td><td>Maybach  Motors</td><td>14</td></tr><tr><td>2019</td><td>Tatra Motors</td><td>14</td></tr><tr><td>2019</td><td>ZIL Motors</td><td>14</td></tr><tr><td>2019</td><td>Talbot  Motors</td><td>14</td></tr><tr><td>2019</td><td>Zastava Motors</td><td>14</td></tr><tr><td>2019</td><td>Audi Motors</td><td>14</td></tr><tr><td>2019</td><td>Volvo Motors</td><td>14</td></tr><tr><td>2019</td><td>Toyota Motors</td><td>14</td></tr><tr><td>2019</td><td>MG  Motors</td><td>14</td></tr><tr><td>2019</td><td>Simca Motors</td><td>14</td></tr><tr><td>2019</td><td>DKW Motors</td><td>13</td></tr><tr><td>2019</td><td>ZAZ Motors</td><td>13</td></tr><tr><td>2019</td><td>Wanderer Motors</td><td>13</td></tr><tr><td>2019</td><td>Das Motors</td><td>13</td></tr><tr><td>2019</td><td>UAZ Motors</td><td>13</td></tr><tr><td>2019</td><td>TVR Motors</td><td>13</td></tr><tr><td>2019</td><td>Austin  Motors</td><td>13</td></tr><tr><td>2019</td><td>Sunbeam Motors</td><td>12</td></tr><tr><td>2019</td><td>Piaggio Motors</td><td>12</td></tr><tr><td>2019</td><td>Premier Motors</td><td>12</td></tr><tr><td>2019</td><td>Tata Motors</td><td>12</td></tr><tr><td>2019</td><td>Santana Motors</td><td>12</td></tr><tr><td>2019</td><td>Renault Motors</td><td>11</td></tr><tr><td>2019</td><td>Wiesmann Motors</td><td>11</td></tr><tr><td>2019</td><td>Samsung Motors</td><td>11</td></tr><tr><td>2019</td><td>Ranger Motors</td><td>11</td></tr><tr><td>2019</td><td>Riley  Motors</td><td>11</td></tr><tr><td>2019</td><td>Saleen Motors</td><td>11</td></tr><tr><td>2019</td><td>Rolls-Royce Motors</td><td>11</td></tr><tr><td>2019</td><td>Ramani Motors</td><td>10</td></tr><tr><td>2019</td><td>Wolseley  Motors</td><td>10</td></tr><tr><td>2019</td><td>Shelby SuperCars Motors</td><td>10</td></tr><tr><td>2019</td><td>Skoda Motors</td><td>9</td></tr><tr><td>2019</td><td>Singer Motors</td><td>9</td></tr><tr><td>2019</td><td>Pontiac, Asüna Motors</td><td>8</td></tr><tr><td>2019</td><td>Suzuki Motors</td><td>8</td></tr><tr><td>2019</td><td>Porsche Motors</td><td>7</td></tr><tr><td>2019</td><td>Venturi Motors</td><td>7</td></tr><tr><td>2019</td><td>Bytom Motors</td><td>3</td></tr><tr><td>2019</td><td>Citroën Motors</td><td>3</td></tr><tr><td>2019</td><td>Chrysler Motors</td><td>3</td></tr><tr><td>2019</td><td>Buick Motors</td><td>3</td></tr><tr><td>2019</td><td>Cizeta-Moroder Motors</td><td>3</td></tr><tr><td>2019</td><td>Cadillac Motors</td><td>2</td></tr><tr><td>2019</td><td>Chrysler Europe Motors</td><td>2</td></tr><tr><td>2019</td><td>Herald Motors</td><td>1</td></tr><tr><td>2020</td><td>Herald Motors</td><td>21</td></tr><tr><td>2020</td><td>Jennings Ford Automobile Dealership</td><td>19</td></tr><tr><td>2020</td><td>H Street Playhouse</td><td>18</td></tr><tr><td>2020</td><td>Bohn Motor Company Automobile Dealership</td><td>17</td></tr><tr><td>2020</td><td>Cadillac Automobile Company Building</td><td>17</td></tr><tr><td>2020</td><td>2008 NRHP-listed</td><td>16</td></tr><tr><td>2020</td><td>Cass Motor Sales</td><td>16</td></tr><tr><td>2020</td><td>Blankinship Motor Company Building</td><td>14</td></tr><tr><td>2020</td><td>Kindel Building</td><td>14</td></tr><tr><td>2020</td><td>Buick Automobile Company Building</td><td>13</td></tr><tr><td>2020</td><td>Hupmobile Building</td><td>13</td></tr><tr><td>2020</td><td>Atlantic Motor Company</td><td>13</td></tr><tr><td>2020</td><td>Jones Motor Company</td><td>11</td></tr><tr><td>2020</td><td>Howard Motor Company Building</td><td>11</td></tr><tr><td>2020</td><td>Colman Automotive Building</td><td>10</td></tr><tr><td>2020</td><td>Clemens Automobile Company Building</td><td>9</td></tr><tr><td>2020</td><td>Claremore Auto Dealership</td><td>9</td></tr><tr><td>2020</td><td>Casa de cadillac</td><td>9</td></tr><tr><td>2020</td><td>Zion Automobils</td><td>8</td></tr><tr><td>2020</td><td>Lincoln Motors</td><td>3</td></tr><tr><td>2020</td><td>Hudson Motors</td><td>3</td></tr><tr><td>2020</td><td>Monteverdi Motors</td><td>3</td></tr><tr><td>2020</td><td>Mastretta Motors</td><td>3</td></tr><tr><td>2020</td><td>Donkervoort Motors</td><td>3</td></tr><tr><td>2020</td><td>Perodua Motors</td><td>3</td></tr><tr><td>2020</td><td>Mercedes-Benz (including Maybach) Motors</td><td>3</td></tr><tr><td>2020</td><td>Ford Europe Motors</td><td>3</td></tr><tr><td>2020</td><td>Isdera Motors</td><td>3</td></tr><tr><td>2020</td><td>Opel Motors</td><td>3</td></tr><tr><td>2020</td><td>Panther Motors</td><td>3</td></tr><tr><td>2020</td><td>Plymouth Motors</td><td>3</td></tr><tr><td>2020</td><td>Ford do Brasil Motors</td><td>3</td></tr><tr><td>2020</td><td>FSO Motors</td><td>3</td></tr><tr><td>2020</td><td>KTM Motors</td><td>3</td></tr><tr><td>2020</td><td>Fisker, Karma Motors</td><td>3</td></tr><tr><td>2020</td><td>Freightliner Motors</td><td>3</td></tr><tr><td>2020</td><td>IFA (including Trabant, Wartburg, Barkas) Motors</td><td>3</td></tr><tr><td>2020</td><td>DAF Motors</td><td>3</td></tr><tr><td>2020</td><td>Nissan Motors</td><td>3</td></tr><tr><td>2020</td><td>Lotus Motors</td><td>3</td></tr><tr><td>2020</td><td>Mini Motors</td><td>3</td></tr><tr><td>2020</td><td>Hummer Motors</td><td>3</td></tr><tr><td>2020</td><td>Iveco Motors</td><td>3</td></tr><tr><td>2020</td><td>Daimler Motors</td><td>3</td></tr><tr><td>2020</td><td>Heinkel Motors</td><td>3</td></tr><tr><td>2020</td><td>Pontiac, Asüna Motors</td><td>3</td></tr><tr><td>2020</td><td>Hillman Motors</td><td>3</td></tr><tr><td>2020</td><td>DeLorean Motors</td><td>3</td></tr><tr><td>2020</td><td>Mazda Motors</td><td>3</td></tr><tr><td>2020</td><td>Lynx Motors</td><td>3</td></tr><tr><td>2020</td><td>Invicta Motors</td><td>3</td></tr><tr><td>2020</td><td>Hindustan Motors</td><td>3</td></tr><tr><td>2020</td><td>Lancia Motors</td><td>2</td></tr><tr><td>2020</td><td>PGO Motors</td><td>2</td></tr><tr><td>2020</td><td>Ford Australia Motors</td><td>2</td></tr><tr><td>2020</td><td>Lexus Motors</td><td>2</td></tr><tr><td>2020</td><td>Packard Motors</td><td>2</td></tr><tr><td>2020</td><td>Ligier Motors</td><td>2</td></tr><tr><td>2020</td><td>Mitsubishi Motors</td><td>2</td></tr><tr><td>2020</td><td>Panhard Motors</td><td>2</td></tr><tr><td>2020</td><td>Isotta Fraschini Motors</td><td>2</td></tr><tr><td>2020</td><td>Koenigsegg Motors</td><td>2</td></tr><tr><td>2020</td><td>Lamborghini Motors</td><td>2</td></tr><tr><td>2020</td><td>Ferrari Motors</td><td>2</td></tr><tr><td>2020</td><td>Innocenti Motors</td><td>2</td></tr><tr><td>2020</td><td>Facel Vega Motors</td><td>2</td></tr><tr><td>2020</td><td>Dacia Motors</td><td>2</td></tr><tr><td>2020</td><td>Morgan Motors</td><td>2</td></tr><tr><td>2020</td><td>Mercury Motors</td><td>2</td></tr><tr><td>2020</td><td>e.GO Mobile Motors</td><td>2</td></tr><tr><td>2020</td><td>Oltcit Motors</td><td>2</td></tr><tr><td>2020</td><td>Moskwitch Motors</td><td>2</td></tr><tr><td>2020</td><td>Micro Motors</td><td>2</td></tr><tr><td>2020</td><td>Hennessey Motors</td><td>2</td></tr><tr><td>2020</td><td>GTA Spano Motors</td><td>2</td></tr><tr><td>2020</td><td>Land Rover Motors</td><td>2</td></tr><tr><td>2020</td><td>Monica Motors</td><td>2</td></tr><tr><td>2020</td><td>McLaren Motors</td><td>2</td></tr><tr><td>2020</td><td>Naza Motors</td><td>2</td></tr><tr><td>2020</td><td>Pagani Motors</td><td>1</td></tr><tr><td>2020</td><td>Mahindra Motors</td><td>1</td></tr><tr><td>2020</td><td>Noble Motors</td><td>1</td></tr><tr><td>2020</td><td>Datsun Motors</td><td>1</td></tr><tr><td>2020</td><td>Mazzanti Motors</td><td>1</td></tr><tr><td>2020</td><td>Honda India Motors</td><td>1</td></tr><tr><td>2020</td><td>Panoz Motors</td><td>1</td></tr><tr><td>2020</td><td>Elva Motors</td><td>1</td></tr><tr><td>2020</td><td>Lada Motors</td><td>1</td></tr><tr><td>2020</td><td>Holden Motors</td><td>1</td></tr><tr><td>2020</td><td>DeSoto Motors</td><td>1</td></tr><tr><td>2020</td><td>Glas Motors</td><td>1</td></tr><tr><td>2020</td><td>NSU Motors</td><td>1</td></tr><tr><td>2020</td><td>Isuzu Motors</td><td>1</td></tr><tr><td>2020</td><td>Fiat do Brasil Motors</td><td>1</td></tr><tr><td>2020</td><td>Ford America Motors</td><td>1</td></tr><tr><td>2020</td><td>Mia Motors</td><td>1</td></tr><tr><td>2020</td><td>Dodge Motors</td><td>1</td></tr><tr><td>2020</td><td>Gilbern Motors</td><td>1</td></tr><tr><td>2020</td><td>Peugeot Motors</td><td>1</td></tr><tr><td>2020</td><td>Marlin Motors</td><td>1</td></tr><tr><td>2020</td><td>Piaggio Motors</td><td>1</td></tr><tr><td>2020</td><td>Gumpert Motors</td><td>1</td></tr><tr><td>2020</td><td>Humber Motors</td><td>1</td></tr><tr><td>2020</td><td>Jensen Motors</td><td>1</td></tr><tr><td>2020</td><td>Geo Motors</td><td>1</td></tr><tr><td>2020</td><td>Daewoo, Saehan, Chevrolet Korea Motors</td><td>1</td></tr><tr><td>2020</td><td>JPX Motors</td><td>1</td></tr><tr><td>2020</td><td>Jeep Motors</td><td>1</td></tr><tr><td>2020</td><td>Delahaye Motors</td><td>1</td></tr><tr><td>2020</td><td>Kia Motors</td><td>1</td></tr><tr><td>2020</td><td>Edsel Motors</td><td>1</td></tr><tr><td>2020</td><td>GAZ Motors</td><td>1</td></tr><tr><td>2020</td><td>Maruti Motors</td><td>1</td></tr></tbody></table></div>"
      ]
     },
     "metadata": {
      "application/vnd.databricks.v1+output": {
       "addedWidgets": {},
       "aggData": [],
       "aggError": "",
       "aggOverflow": false,
       "aggSchema": [],
       "aggSeriesLimitReached": false,
       "aggType": "",
       "arguments": {},
       "columnCustomDisplayInfos": {},
       "data": [
        [
         2017,
         "Alpine Motors",
         24
        ],
        [
         2017,
         "Bristol Motors",
         23
        ],
        [
         2017,
         "Acura Motors",
         23
        ],
        [
         2017,
         "BMW Motors",
         23
        ],
        [
         2017,
         "Aston Martin Motors",
         23
        ],
        [
         2017,
         "Ariel Motors",
         21
        ],
        [
         2017,
         "Daihatsu Motors",
         21
        ],
        [
         2017,
         "Gilbern Motors",
         21
        ],
        [
         2017,
         "Asia Motors Motors",
         20
        ],
        [
         2017,
         "Anadol Motors",
         19
        ],
        [
         2017,
         "AC Cars Motors",
         19
        ],
        [
         2017,
         "DAF Motors",
         19
        ],
        [
         2017,
         "DeLorean Motors",
         19
        ],
        [
         2017,
         "AMC, Eagle Motors",
         18
        ],
        [
         2017,
         "Auto-Union Motors",
         18
        ],
        [
         2017,
         "Glas Motors",
         18
        ],
        [
         2017,
         "Alvis Motors",
         17
        ],
        [
         2017,
         "Caterham Motors",
         17
        ],
        [
         2017,
         "Datsun Motors",
         17
        ],
        [
         2017,
         "Borgward (including Goliath and Lloyd) Motors",
         16
        ],
        [
         2017,
         "Chevrolet India Motors",
         16
        ],
        [
         2017,
         "Dodge Motors",
         16
        ],
        [
         2017,
         "FSO Motors",
         16
        ],
        [
         2017,
         "Ginetta Motors",
         16
        ],
        [
         2017,
         "Cadillac Motors",
         16
        ],
        [
         2017,
         "Daewoo, Saehan, Chevrolet Korea Motors",
         15
        ],
        [
         2017,
         "Freightliner Motors",
         15
        ],
        [
         2017,
         "Aixam-Mega (including Arola) Motors",
         15
        ],
        [
         2017,
         "British Leyland Motors",
         15
        ],
        [
         2017,
         "Chrysler Europe Motors",
         15
        ],
        [
         2017,
         "e.GO Mobile Motors",
         15
        ],
        [
         2017,
         "Buick Motors",
         15
        ],
        [
         2017,
         "GMC Motors",
         15
        ],
        [
         2017,
         "Delahaye Motors",
         14
        ],
        [
         2017,
         "Bentley Motors",
         14
        ],
        [
         2017,
         "Citroën Motors",
         14
        ],
        [
         2017,
         "Cizeta-Moroder Motors",
         14
        ],
        [
         2017,
         "Gumpert Motors",
         14
        ],
        [
         2017,
         "Ford America Motors",
         14
        ],
        [
         2017,
         "Bond Motors",
         14
        ],
        [
         2017,
         "DeSoto Motors",
         14
        ],
        [
         2017,
         "Artega Motors",
         14
        ],
        [
         2017,
         "Alfa Romeo Motors",
         14
        ],
        [
         2017,
         "Fiat do Brasil Motors",
         13
        ],
        [
         2017,
         "Healey Motors",
         13
        ],
        [
         2017,
         "Geo Motors",
         13
        ],
        [
         2017,
         "Dacia Motors",
         13
        ],
        [
         2017,
         "Ford do Brasil Motors",
         13
        ],
        [
         2017,
         "Bitter Motors",
         13
        ],
        [
         2017,
         "Chevrolet Motors",
         12
        ],
        [
         2017,
         "Audi Motors",
         12
        ],
        [
         2017,
         "Bugatti Motors",
         12
        ],
        [
         2017,
         "Ford Europe Motors",
         12
        ],
        [
         2017,
         "Ford Australia Motors",
         12
        ],
        [
         2017,
         "Fiat Motors",
         12
        ],
        [
         2017,
         "Chrysler Motors",
         12
        ],
        [
         2017,
         "Heinkel Motors",
         12
        ],
        [
         2017,
         "ARO Motors",
         11
        ],
        [
         2017,
         "Ford India Motors",
         11
        ],
        [
         2017,
         "Eicher Polaris Motors",
         11
        ],
        [
         2017,
         "Austin, Rover Motors",
         11
        ],
        [
         2017,
         "Auverland Motors",
         11
        ],
        [
         2017,
         "Fiat India Motors",
         11
        ],
        [
         2017,
         "Ferrari Motors",
         11
        ],
        [
         2017,
         "Checker Motors",
         10
        ],
        [
         2017,
         "Elva Motors",
         10
        ],
        [
         2017,
         "Donkervoort Motors",
         10
        ],
        [
         2017,
         "Edsel Motors",
         10
        ],
        [
         2017,
         "GAZ Motors",
         10
        ],
        [
         2017,
         "GTA Spano Motors",
         9
        ],
        [
         2017,
         "Austin-Healey Motors",
         9
        ],
        [
         2017,
         "Fisker, Karma Motors",
         9
        ],
        [
         2017,
         "De Tomaso Motors",
         8
        ],
        [
         2017,
         "Autobianchi Motors",
         7
        ],
        [
         2017,
         "Daimler Motors",
         7
        ],
        [
         2017,
         "Bytom Motors",
         5
        ],
        [
         2017,
         "Facel Vega Motors",
         3
        ],
        [
         2017,
         "Hennessey Motors",
         2
        ],
        [
         2018,
         "Maruti Motors",
         20
        ],
        [
         2018,
         "Lamborghini Motors",
         20
        ],
        [
         2018,
         "Packard Motors",
         19
        ],
        [
         2018,
         "Mastretta Motors",
         19
        ],
        [
         2018,
         "Jeep Motors",
         18
        ],
        [
         2018,
         "Naza Motors",
         18
        ],
        [
         2018,
         "Micro Motors",
         17
        ],
        [
         2018,
         "Noble Motors",
         17
        ],
        [
         2018,
         "Matra (including Deutsch-Bonnet, René Bonnet) Motors",
         17
        ],
        [
         2018,
         "Opel Motors",
         16
        ],
        [
         2018,
         "Iso Motors",
         16
        ],
        [
         2018,
         "Innocenti Motors",
         16
        ],
        [
         2018,
         "Jensen Motors",
         16
        ],
        [
         2018,
         "Merkur Motors",
         16
        ],
        [
         2018,
         "Invicta Motors",
         16
        ],
        [
         2018,
         "Koenigsegg Motors",
         16
        ],
        [
         2018,
         "Peugeot Motors",
         16
        ],
        [
         2018,
         "Isuzu Motors",
         15
        ],
        [
         2018,
         "Jaguar Motors",
         15
        ],
        [
         2018,
         "Honda India Motors",
         15
        ],
        [
         2018,
         "McLaren Motors",
         15
        ],
        [
         2018,
         "LuAZ Motors",
         15
        ],
        [
         2018,
         "Perodua Motors",
         15
        ],
        [
         2018,
         "Holden Motors",
         15
        ],
        [
         2018,
         "Marcos Motors",
         15
        ],
        [
         2018,
         "Mini Motors",
         14
        ],
        [
         2018,
         "Nissan India Motors",
         14
        ],
        [
         2018,
         "Hudson Motors",
         14
        ],
        [
         2018,
         "Isotta Fraschini Motors",
         14
        ],
        [
         2018,
         "Mazzanti Motors",
         14
        ],
        [
         2018,
         "Lancia Motors",
         14
        ],
        [
         2018,
         "Panhard Motors",
         14
        ],
        [
         2018,
         "NSU Motors",
         14
        ],
        [
         2018,
         "Lexus Motors",
         14
        ],
        [
         2018,
         "Hummer Motors",
         14
        ],
        [
         2018,
         "Honda Motors",
         14
        ],
        [
         2018,
         "Maserati Motors",
         13
        ],
        [
         2018,
         "Mazda Motors",
         13
        ],
        [
         2018,
         "Mitsubishi Motors",
         13
        ],
        [
         2018,
         "IFA (including Trabant, Wartburg, Barkas) Motors",
         13
        ],
        [
         2018,
         "Mercedes-Benz (including Maybach) Motors",
         13
        ],
        [
         2018,
         "JPX Motors",
         13
        ],
        [
         2018,
         "LTI Motors",
         13
        ],
        [
         2018,
         "Hyundai Motors",
         13
        ],
        [
         2018,
         "Oldsmobile Motors",
         12
        ],
        [
         2018,
         "Mia Motors",
         12
        ],
        [
         2018,
         "Marlin Motors",
         12
        ],
        [
         2018,
         "Land Rover Motors",
         11
        ],
        [
         2018,
         "Moskwitch Motors",
         11
        ],
        [
         2018,
         "Lincoln Motors",
         11
        ],
        [
         2018,
         "Kia Motors",
         11
        ],
        [
         2018,
         "KTM Motors",
         11
        ],
        [
         2018,
         "Hillman Motors",
         11
        ],
        [
         2018,
         "Nash Motors",
         11
        ],
        [
         2018,
         "Monica Motors",
         11
        ],
        [
         2018,
         "Iveco Motors",
         10
        ],
        [
         2018,
         "Mahindra Motors",
         10
        ],
        [
         2018,
         "Messerschmitt Motors",
         10
        ],
        [
         2018,
         "Mercury Motors",
         10
        ],
        [
         2018,
         "Peel Motors",
         10
        ],
        [
         2018,
         "Humber Motors",
         10
        ],
        [
         2018,
         "Lotus Motors",
         10
        ],
        [
         2018,
         "Nissan Motors",
         9
        ],
        [
         2018,
         "Infiniti Motors",
         9
        ],
        [
         2018,
         "Pagani Motors",
         9
        ],
        [
         2018,
         "Monteverdi Motors",
         9
        ],
        [
         2018,
         "Isdera Motors",
         9
        ],
        [
         2018,
         "Hindustan Motors",
         9
        ],
        [
         2018,
         "Panther Motors",
         9
        ],
        [
         2018,
         "Lada Motors",
         9
        ],
        [
         2018,
         "Oltcit Motors",
         8
        ],
        [
         2018,
         "Panoz Motors",
         7
        ],
        [
         2018,
         "Lynx Motors",
         7
        ],
        [
         2018,
         "PGO Motors",
         6
        ],
        [
         2018,
         "Hennessey Motors",
         6
        ],
        [
         2018,
         "Morgan Motors",
         5
        ],
        [
         2018,
         "Ligier Motors",
         4
        ],
        [
         2018,
         "Santana Motors",
         3
        ],
        [
         2018,
         "Kindel Building",
         3
        ],
        [
         2018,
         "Blankinship Motor Company Building",
         3
        ],
        [
         2018,
         "Vauxhall Motors",
         3
        ],
        [
         2018,
         "Herald Motors",
         3
        ],
        [
         2018,
         "Simca Motors",
         3
        ],
        [
         2018,
         "Lagonda  Motors",
         3
        ],
        [
         2018,
         "Tesla Motors",
         3
        ],
        [
         2018,
         "Cass Motor Sales",
         3
        ],
        [
         2018,
         "UAZ Motors",
         3
        ],
        [
         2018,
         "Sunbeam Motors",
         3
        ],
        [
         2018,
         "Auto-Union Motors",
         3
        ],
        [
         2018,
         "Borgward (including Goliath and Lloyd) Motors",
         3
        ],
        [
         2018,
         "MG  Motors",
         3
        ],
        [
         2018,
         "Audi Motors",
         3
        ],
        [
         2018,
         "Jennings Ford Automobile Dealership",
         3
        ],
        [
         2018,
         "Zastava Motors",
         3
        ],
        [
         2018,
         "Tatra Motors",
         3
        ],
        [
         2018,
         "Casa de cadillac",
         3
        ],
        [
         2018,
         "Izh  Motors",
         3
        ],
        [
         2018,
         "Zion Automobils",
         3
        ],
        [
         2018,
         "Volkswagen Motors",
         2
        ],
        [
         2018,
         "Tata Motors",
         2
        ],
        [
         2018,
         "Hupmobile Building",
         2
        ],
        [
         2018,
         "Tazzari Motors",
         2
        ],
        [
         2018,
         "Volvo Motors",
         2
        ],
        [
         2018,
         "Simca do Brasil Motors",
         2
        ],
        [
         2018,
         "Turner Motors",
         2
        ],
        [
         2018,
         "Colman Automotive Building",
         2
        ],
        [
         2018,
         "Saturn Motors",
         2
        ],
        [
         2018,
         "Bentley Motors",
         2
        ],
        [
         2018,
         "Atlantic Motor Company",
         2
        ],
        [
         2018,
         "Volkswagen do Brasil Motors",
         2
        ],
        [
         2018,
         "Howard Motor Company Building",
         2
        ],
        [
         2018,
         "Westfield Motors",
         2
        ],
        [
         2018,
         "British Leyland Motors",
         2
        ],
        [
         2018,
         "Santa Matilde Motors",
         2
        ],
        [
         2018,
         "Saleen Motors",
         2
        ],
        [
         2018,
         "Volkswagen South Africa Motors",
         2
        ],
        [
         2018,
         "Bristol Motors",
         2
        ],
        [
         2018,
         "Deccan Motors",
         2
        ],
        [
         2018,
         "Singer Motors",
         2
        ],
        [
         2018,
         "Cadillac Automobile Company Building",
         2
        ],
        [
         2018,
         "Samsung Motors",
         2
        ],
        [
         2018,
         "Jones Motor Company",
         2
        ],
        [
         2018,
         "Standard  Motors",
         2
        ],
        [
         2018,
         "Piaggio Motors",
         2
        ],
        [
         2018,
         "Spyker Motors",
         2
        ],
        [
         2018,
         "SAIC Motor Motors",
         2
        ],
        [
         2018,
         "Shelby SuperCars Motors",
         2
        ],
        [
         2018,
         "Wolseley  Motors",
         1
        ],
        [
         2018,
         "Scion Motors",
         1
        ],
        [
         2018,
         "Standard-Triumph Motors",
         1
        ],
        [
         2018,
         "BMW Motors",
         1
        ],
        [
         2018,
         "Auverland Motors",
         1
        ],
        [
         2018,
         "Tornado Motors",
         1
        ],
        [
         2018,
         "Bohn Motor Company Automobile Dealership",
         1
        ],
        [
         2018,
         "Autobianchi Motors",
         1
        ],
        [
         2018,
         "Seat Motors",
         1
        ],
        [
         2018,
         "Riley  Motors",
         1
        ],
        [
         2018,
         "Ramani Motors",
         1
        ],
        [
         2018,
         "Horch Motors",
         1
        ],
        [
         2018,
         "Toyota Motors",
         1
        ],
        [
         2018,
         "ZIL Motors",
         1
        ],
        [
         2018,
         "Buick Automobile Company Building",
         1
        ],
        [
         2018,
         "Saab Motors",
         1
        ],
        [
         2018,
         "Bitter Motors",
         1
        ],
        [
         2018,
         "Maybach  Motors",
         1
        ],
        [
         2018,
         "Das Motors",
         1
        ],
        [
         2019,
         "Tazzari Motors",
         21
        ],
        [
         2019,
         "Izh  Motors",
         20
        ],
        [
         2019,
         "Polestar Motors",
         19
        ],
        [
         2019,
         "Spyker Motors",
         19
        ],
        [
         2019,
         "San Motors",
         19
        ],
        [
         2019,
         "Volkswagen do Brasil Motors",
         18
        ],
        [
         2019,
         "Volkswagen Motors",
         18
        ],
        [
         2019,
         "Scion Motors",
         18
        ],
        [
         2019,
         "Standard  Motors",
         18
        ],
        [
         2019,
         "Tesla Motors",
         18
        ],
        [
         2019,
         "Horch Motors",
         18
        ],
        [
         2019,
         "Seat Motors",
         18
        ],
        [
         2019,
         "SsangYong Motors",
         18
        ],
        [
         2019,
         "Westfield Motors",
         18
        ],
        [
         2019,
         "Turner Motors",
         18
        ],
        [
         2019,
         "Rivian Motors",
         17
        ],
        [
         2019,
         "Plymouth Motors",
         17
        ],
        [
         2019,
         "Proton Motors",
         17
        ],
        [
         2019,
         "Tornado Motors",
         16
        ],
        [
         2019,
         "Smart Motors",
         16
        ],
        [
         2019,
         "Saturn Motors",
         16
        ],
        [
         2019,
         "Lagonda  Motors",
         16
        ],
        [
         2019,
         "Saab Motors",
         16
        ],
        [
         2019,
         "Reliant Motors",
         16
        ],
        [
         2019,
         "Santa Matilde Motors",
         16
        ],
        [
         2019,
         "Simca do Brasil Motors",
         16
        ],
        [
         2019,
         "Subaru Motors",
         16
        ],
        [
         2019,
         "Studebaker Motors",
         16
        ],
        [
         2019,
         "Morris  Motors",
         15
        ],
        [
         2019,
         "Deccan Motors",
         15
        ],
        [
         2019,
         "Standard-Triumph Motors",
         15
        ],
        [
         2019,
         "Volkswagen South Africa Motors",
         15
        ],
        [
         2019,
         "Puma Motors",
         15
        ],
        [
         2019,
         "SAIC Motor Motors",
         15
        ],
        [
         2019,
         "Toyota India Motors",
         15
        ],
        [
         2019,
         "Vauxhall Motors",
         14
        ],
        [
         2019,
         "Maybach  Motors",
         14
        ],
        [
         2019,
         "Tatra Motors",
         14
        ],
        [
         2019,
         "ZIL Motors",
         14
        ],
        [
         2019,
         "Talbot  Motors",
         14
        ],
        [
         2019,
         "Zastava Motors",
         14
        ],
        [
         2019,
         "Audi Motors",
         14
        ],
        [
         2019,
         "Volvo Motors",
         14
        ],
        [
         2019,
         "Toyota Motors",
         14
        ],
        [
         2019,
         "MG  Motors",
         14
        ],
        [
         2019,
         "Simca Motors",
         14
        ],
        [
         2019,
         "DKW Motors",
         13
        ],
        [
         2019,
         "ZAZ Motors",
         13
        ],
        [
         2019,
         "Wanderer Motors",
         13
        ],
        [
         2019,
         "Das Motors",
         13
        ],
        [
         2019,
         "UAZ Motors",
         13
        ],
        [
         2019,
         "TVR Motors",
         13
        ],
        [
         2019,
         "Austin  Motors",
         13
        ],
        [
         2019,
         "Sunbeam Motors",
         12
        ],
        [
         2019,
         "Piaggio Motors",
         12
        ],
        [
         2019,
         "Premier Motors",
         12
        ],
        [
         2019,
         "Tata Motors",
         12
        ],
        [
         2019,
         "Santana Motors",
         12
        ],
        [
         2019,
         "Renault Motors",
         11
        ],
        [
         2019,
         "Wiesmann Motors",
         11
        ],
        [
         2019,
         "Samsung Motors",
         11
        ],
        [
         2019,
         "Ranger Motors",
         11
        ],
        [
         2019,
         "Riley  Motors",
         11
        ],
        [
         2019,
         "Saleen Motors",
         11
        ],
        [
         2019,
         "Rolls-Royce Motors",
         11
        ],
        [
         2019,
         "Ramani Motors",
         10
        ],
        [
         2019,
         "Wolseley  Motors",
         10
        ],
        [
         2019,
         "Shelby SuperCars Motors",
         10
        ],
        [
         2019,
         "Skoda Motors",
         9
        ],
        [
         2019,
         "Singer Motors",
         9
        ],
        [
         2019,
         "Pontiac, Asüna Motors",
         8
        ],
        [
         2019,
         "Suzuki Motors",
         8
        ],
        [
         2019,
         "Porsche Motors",
         7
        ],
        [
         2019,
         "Venturi Motors",
         7
        ],
        [
         2019,
         "Bytom Motors",
         3
        ],
        [
         2019,
         "Citroën Motors",
         3
        ],
        [
         2019,
         "Chrysler Motors",
         3
        ],
        [
         2019,
         "Buick Motors",
         3
        ],
        [
         2019,
         "Cizeta-Moroder Motors",
         3
        ],
        [
         2019,
         "Cadillac Motors",
         2
        ],
        [
         2019,
         "Chrysler Europe Motors",
         2
        ],
        [
         2019,
         "Herald Motors",
         1
        ],
        [
         2020,
         "Herald Motors",
         21
        ],
        [
         2020,
         "Jennings Ford Automobile Dealership",
         19
        ],
        [
         2020,
         "H Street Playhouse",
         18
        ],
        [
         2020,
         "Bohn Motor Company Automobile Dealership",
         17
        ],
        [
         2020,
         "Cadillac Automobile Company Building",
         17
        ],
        [
         2020,
         "2008 NRHP-listed",
         16
        ],
        [
         2020,
         "Cass Motor Sales",
         16
        ],
        [
         2020,
         "Blankinship Motor Company Building",
         14
        ],
        [
         2020,
         "Kindel Building",
         14
        ],
        [
         2020,
         "Buick Automobile Company Building",
         13
        ],
        [
         2020,
         "Hupmobile Building",
         13
        ],
        [
         2020,
         "Atlantic Motor Company",
         13
        ],
        [
         2020,
         "Jones Motor Company",
         11
        ],
        [
         2020,
         "Howard Motor Company Building",
         11
        ],
        [
         2020,
         "Colman Automotive Building",
         10
        ],
        [
         2020,
         "Clemens Automobile Company Building",
         9
        ],
        [
         2020,
         "Claremore Auto Dealership",
         9
        ],
        [
         2020,
         "Casa de cadillac",
         9
        ],
        [
         2020,
         "Zion Automobils",
         8
        ],
        [
         2020,
         "Lincoln Motors",
         3
        ],
        [
         2020,
         "Hudson Motors",
         3
        ],
        [
         2020,
         "Monteverdi Motors",
         3
        ],
        [
         2020,
         "Mastretta Motors",
         3
        ],
        [
         2020,
         "Donkervoort Motors",
         3
        ],
        [
         2020,
         "Perodua Motors",
         3
        ],
        [
         2020,
         "Mercedes-Benz (including Maybach) Motors",
         3
        ],
        [
         2020,
         "Ford Europe Motors",
         3
        ],
        [
         2020,
         "Isdera Motors",
         3
        ],
        [
         2020,
         "Opel Motors",
         3
        ],
        [
         2020,
         "Panther Motors",
         3
        ],
        [
         2020,
         "Plymouth Motors",
         3
        ],
        [
         2020,
         "Ford do Brasil Motors",
         3
        ],
        [
         2020,
         "FSO Motors",
         3
        ],
        [
         2020,
         "KTM Motors",
         3
        ],
        [
         2020,
         "Fisker, Karma Motors",
         3
        ],
        [
         2020,
         "Freightliner Motors",
         3
        ],
        [
         2020,
         "IFA (including Trabant, Wartburg, Barkas) Motors",
         3
        ],
        [
         2020,
         "DAF Motors",
         3
        ],
        [
         2020,
         "Nissan Motors",
         3
        ],
        [
         2020,
         "Lotus Motors",
         3
        ],
        [
         2020,
         "Mini Motors",
         3
        ],
        [
         2020,
         "Hummer Motors",
         3
        ],
        [
         2020,
         "Iveco Motors",
         3
        ],
        [
         2020,
         "Daimler Motors",
         3
        ],
        [
         2020,
         "Heinkel Motors",
         3
        ],
        [
         2020,
         "Pontiac, Asüna Motors",
         3
        ],
        [
         2020,
         "Hillman Motors",
         3
        ],
        [
         2020,
         "DeLorean Motors",
         3
        ],
        [
         2020,
         "Mazda Motors",
         3
        ],
        [
         2020,
         "Lynx Motors",
         3
        ],
        [
         2020,
         "Invicta Motors",
         3
        ],
        [
         2020,
         "Hindustan Motors",
         3
        ],
        [
         2020,
         "Lancia Motors",
         2
        ],
        [
         2020,
         "PGO Motors",
         2
        ],
        [
         2020,
         "Ford Australia Motors",
         2
        ],
        [
         2020,
         "Lexus Motors",
         2
        ],
        [
         2020,
         "Packard Motors",
         2
        ],
        [
         2020,
         "Ligier Motors",
         2
        ],
        [
         2020,
         "Mitsubishi Motors",
         2
        ],
        [
         2020,
         "Panhard Motors",
         2
        ],
        [
         2020,
         "Isotta Fraschini Motors",
         2
        ],
        [
         2020,
         "Koenigsegg Motors",
         2
        ],
        [
         2020,
         "Lamborghini Motors",
         2
        ],
        [
         2020,
         "Ferrari Motors",
         2
        ],
        [
         2020,
         "Innocenti Motors",
         2
        ],
        [
         2020,
         "Facel Vega Motors",
         2
        ],
        [
         2020,
         "Dacia Motors",
         2
        ],
        [
         2020,
         "Morgan Motors",
         2
        ],
        [
         2020,
         "Mercury Motors",
         2
        ],
        [
         2020,
         "e.GO Mobile Motors",
         2
        ],
        [
         2020,
         "Oltcit Motors",
         2
        ],
        [
         2020,
         "Moskwitch Motors",
         2
        ],
        [
         2020,
         "Micro Motors",
         2
        ],
        [
         2020,
         "Hennessey Motors",
         2
        ],
        [
         2020,
         "GTA Spano Motors",
         2
        ],
        [
         2020,
         "Land Rover Motors",
         2
        ],
        [
         2020,
         "Monica Motors",
         2
        ],
        [
         2020,
         "McLaren Motors",
         2
        ],
        [
         2020,
         "Naza Motors",
         2
        ],
        [
         2020,
         "Pagani Motors",
         1
        ],
        [
         2020,
         "Mahindra Motors",
         1
        ],
        [
         2020,
         "Noble Motors",
         1
        ],
        [
         2020,
         "Datsun Motors",
         1
        ],
        [
         2020,
         "Mazzanti Motors",
         1
        ],
        [
         2020,
         "Honda India Motors",
         1
        ],
        [
         2020,
         "Panoz Motors",
         1
        ],
        [
         2020,
         "Elva Motors",
         1
        ],
        [
         2020,
         "Lada Motors",
         1
        ],
        [
         2020,
         "Holden Motors",
         1
        ],
        [
         2020,
         "DeSoto Motors",
         1
        ],
        [
         2020,
         "Glas Motors",
         1
        ],
        [
         2020,
         "NSU Motors",
         1
        ],
        [
         2020,
         "Isuzu Motors",
         1
        ],
        [
         2020,
         "Fiat do Brasil Motors",
         1
        ],
        [
         2020,
         "Ford America Motors",
         1
        ],
        [
         2020,
         "Mia Motors",
         1
        ],
        [
         2020,
         "Dodge Motors",
         1
        ],
        [
         2020,
         "Gilbern Motors",
         1
        ],
        [
         2020,
         "Peugeot Motors",
         1
        ],
        [
         2020,
         "Marlin Motors",
         1
        ],
        [
         2020,
         "Piaggio Motors",
         1
        ],
        [
         2020,
         "Gumpert Motors",
         1
        ],
        [
         2020,
         "Humber Motors",
         1
        ],
        [
         2020,
         "Jensen Motors",
         1
        ],
        [
         2020,
         "Geo Motors",
         1
        ],
        [
         2020,
         "Daewoo, Saehan, Chevrolet Korea Motors",
         1
        ],
        [
         2020,
         "JPX Motors",
         1
        ],
        [
         2020,
         "Jeep Motors",
         1
        ],
        [
         2020,
         "Delahaye Motors",
         1
        ],
        [
         2020,
         "Kia Motors",
         1
        ],
        [
         2020,
         "Edsel Motors",
         1
        ],
        [
         2020,
         "GAZ Motors",
         1
        ],
        [
         2020,
         "Maruti Motors",
         1
        ]
       ],
       "datasetInfos": [],
       "dbfsResultPath": null,
       "isJsonSchema": true,
       "metadata": {},
       "overflow": false,
       "plotOptions": {
        "customPlotOptions": {},
        "displayType": "table",
        "pivotAggregation": null,
        "pivotColumns": null,
        "xColumns": null,
        "yColumns": null
       },
       "removedWidgets": [],
       "schema": [
        {
         "metadata": "{}",
         "name": "year",
         "type": "\"integer\""
        },
        {
         "metadata": "{}",
         "name": "BranchName",
         "type": "\"string\""
        },
        {
         "metadata": "{}",
         "name": "Total_Units_Sold",
         "type": "\"long\""
        }
       ],
       "type": "table"
      }
     },
     "output_type": "display_data"
    },
    {
     "output_type": "display_data",
     "data": {
      "text/plain": [
       "Databricks visualization. Run in Databricks to view."
      ]
     },
     "metadata": {
      "application/vnd.databricks.v1.subcommand+json": {
       "baseErrorDetails": null,
       "bindings": {},
       "collapsed": false,
       "command": "%python\n__backend_agg_display_orig = display\n__backend_agg_dfs = []\ndef __backend_agg_display_new(df):\n    __backend_agg_df_modules = [\"pandas.core.frame\", \"databricks.koalas.frame\", \"pyspark.sql.dataframe\", \"pyspark.pandas.frame\", \"pyspark.sql.connect.dataframe\"]\n    if (type(df).__module__ in __backend_agg_df_modules and type(df).__name__ == 'DataFrame') or isinstance(df, list):\n        __backend_agg_dfs.append(df)\n\ndisplay = __backend_agg_display_new\n\ndef __backend_agg_user_code_fn():\n    import base64\n    exec(base64.standard_b64decode(\"ZGYuZ3JvdXBieSgneWVhcicsJ0JyYW5jaE5hbWUnKS5hZ2coXAogICAgc3VtKCdVbml0c19Tb2xkJykuYWxpYXMoJ1RvdGFsX1VuaXRzX1NvbGQnKVwKICAgICkuc29ydCgnWWVhcicsJ1RvdGFsX1VuaXRzX1NvbGQnLGFzY2VuZGluZz1bMSwwXSkuZGlzcGxheSgp\").decode())\n\ntry:\n    # run user code\n    __backend_agg_user_code_fn()\n\n    #reset display function\n    display = __backend_agg_display_orig\n\n    if len(__backend_agg_dfs) > 0:\n        # create a temp view\n        if type(__backend_agg_dfs[0]).__module__ == \"databricks.koalas.frame\":\n            # koalas dataframe\n            __backend_agg_dfs[0].to_spark().createOrReplaceTempView(\"DatabricksView5ea6f0d\")\n        elif type(__backend_agg_dfs[0]).__module__ == \"pandas.core.frame\" or isinstance(__backend_agg_dfs[0], list):\n            # pandas dataframe\n            spark.createDataFrame(__backend_agg_dfs[0]).createOrReplaceTempView(\"DatabricksView5ea6f0d\")\n        else:\n            __backend_agg_dfs[0].createOrReplaceTempView(\"DatabricksView5ea6f0d\")\n        #run backend agg\n        display(spark.sql(\"\"\"WITH q AS (select * from DatabricksView5ea6f0d) SELECT `year`,SUM(`Total_Units_Sold`) `column_7d7564d268` FROM q GROUP BY `year`\"\"\"))\n    else:\n        displayHTML(\"dataframe no longer exists. If you're using dataframe.display(), use display(dataframe) instead.\")\n\n\nfinally:\n    spark.sql(\"drop view if exists DatabricksView5ea6f0d\")\n    display = __backend_agg_display_orig\n    del __backend_agg_display_new\n    del __backend_agg_display_orig\n    del __backend_agg_dfs\n    del __backend_agg_user_code_fn\n\n",
       "commandTitle": "Visualization 1",
       "commandType": "auto",
       "commandVersion": 0,
       "commentThread": [],
       "commentsVisible": false,
       "contentSha256Hex": null,
       "customPlotOptions": {
        "redashChart": [
         {
          "key": "type",
          "value": "CHART"
         },
         {
          "key": "options",
          "value": {
           "alignYAxesAtZero": true,
           "coefficient": 1,
           "columnConfigurationMap": {
            "x": {
             "column": "year",
             "id": "column_7d7564d266"
            },
            "y": [
             {
              "column": "Total_Units_Sold",
              "id": "column_7d7564d268",
              "transform": "SUM"
             }
            ]
           },
           "dateTimeFormat": "DD/MM/YYYY HH:mm",
           "direction": {
            "type": "counterclockwise"
           },
           "error_y": {
            "type": "data",
            "visible": true
           },
           "globalSeriesType": "pie",
           "isAggregationOn": true,
           "legend": {
            "traceorder": "normal"
           },
           "missingValuesAsZero": true,
           "numberFormat": "0,0.[00000]",
           "percentFormat": "0[.]00%",
           "series": {
            "error_y": {
             "type": "data",
             "visible": true
            },
            "stacking": null
           },
           "seriesOptions": {
            "column_7d7564d268": {
             "type": "pie",
             "yAxis": 0
            }
           },
           "showDataLabels": true,
           "sizemode": "diameter",
           "sortX": true,
           "sortY": true,
           "swappedAxes": false,
           "textFormat": "",
           "useAggregationsUi": true,
           "valuesOptions": {},
           "version": 2,
           "xAxis": {
            "labels": {
             "enabled": true
            },
            "type": "-"
           },
           "yAxis": [
            {
             "type": "-"
            },
            {
             "opposite": true,
             "type": "-"
            }
           ]
          }
         }
        ]
       },
       "datasetPreviewNameToCmdIdMap": {},
       "diffDeletes": [],
       "diffInserts": [],
       "displayType": "redashChart",
       "error": null,
       "errorDetails": null,
       "errorSummary": null,
       "errorTraceType": null,
       "finishTime": 0,
       "globalVars": {},
       "guid": "",
       "height": "auto",
       "hideCommandCode": false,
       "hideCommandResult": false,
       "iPythonMetadata": null,
       "inputWidgets": {},
       "isLockedInExamMode": false,
       "latestUser": "a user",
       "latestUserId": null,
       "listResultMetadata": null,
       "metadata": {},
       "nuid": "5f139939-6c7a-4e22-b2fc-f5099351dd4e",
       "origId": 0,
       "parentHierarchy": [],
       "pivotAggregation": null,
       "pivotColumns": null,
       "position": 8.0,
       "resultDbfsErrorMessage": null,
       "resultDbfsStatus": "INLINED_IN_TREE",
       "results": null,
       "showCommandTitle": false,
       "startTime": 0,
       "state": "input",
       "streamStates": {},
       "subcommandOptions": {
        "queryPlan": {
         "groups": [
          {
           "column": "year",
           "type": "column"
          }
         ],
         "selects": [
          {
           "column": "year",
           "type": "column"
          },
          {
           "alias": "column_7d7564d268",
           "args": [
            {
             "column": "Total_Units_Sold",
             "type": "column"
            }
           ],
           "function": "SUM",
           "type": "function"
          }
         ]
        }
       },
       "submitTime": 0,
       "subtype": "tableResultSubCmd.visualization",
       "tableResultIndex": 0,
       "tableResultSettingsMap": {},
       "useConsistentColors": false,
       "version": "CommandV1",
       "width": "auto",
       "workflows": [],
       "xColumns": null,
       "yColumns": null
      }
     },
     "output_type": "display_data"
    }
   ],
   "source": [
    "df.groupby('year','BranchName').agg(\\\n",
    "    sum('Units_Sold').alias('Total_Units_Sold')\\\n",
    "    ).sort('Year','Total_Units_Sold',ascending=[1,0]).display()"
   ]
  },
  {
   "cell_type": "markdown",
   "metadata": {
    "application/vnd.databricks.v1+cell": {
     "cellMetadata": {},
     "inputWidgets": {},
     "nuid": "0e489532-2120-4742-9f73-92808bcbb357",
     "showTitle": false,
     "tableResultSettingsMap": {},
     "title": ""
    }
   },
   "source": [
    "#Data Writing"
   ]
  },
  {
   "cell_type": "code",
   "execution_count": 0,
   "metadata": {
    "application/vnd.databricks.v1+cell": {
     "cellMetadata": {
      "byteLimit": 2048000,
      "rowLimit": 10000
     },
     "inputWidgets": {},
     "nuid": "63b94942-b895-46b9-bbcb-461ce484ca31",
     "showTitle": false,
     "tableResultSettingsMap": {},
     "title": ""
    }
   },
   "outputs": [],
   "source": [
    "df.write.format('parquet') \\\n",
    ".mode('overwrite') \\\n",
    ".save(f'{adls_silver}/car_sales/{date_id}')"
   ]
  },
  {
   "cell_type": "code",
   "execution_count": 0,
   "metadata": {
    "application/vnd.databricks.v1+cell": {
     "cellMetadata": {
      "byteLimit": 2048000,
      "implicitDf": true,
      "rowLimit": 10000
     },
     "inputWidgets": {},
     "nuid": "3a841768-3c62-47c6-bc57-85e85262890c",
     "showTitle": false,
     "tableResultSettingsMap": {},
     "title": ""
    }
   },
   "outputs": [
    {
     "output_type": "display_data",
     "data": {
      "text/plain": [
       "\u001B[0;31m---------------------------------------------------------------------------\u001B[0m\n",
       "\u001B[0;31mAnalysisException\u001B[0m                         Traceback (most recent call last)\n",
       "File \u001B[0;32m<command-8621545377553699>, line 1\u001B[0m\n",
       "\u001B[0;32m----> 1\u001B[0m spark\u001B[38;5;241m.\u001B[39msql(\u001B[38;5;124mf\u001B[39m\u001B[38;5;124m'''\u001B[39m\n",
       "\u001B[1;32m      2\u001B[0m \u001B[38;5;124mselect * from parquet.`\u001B[39m\u001B[38;5;132;01m{\u001B[39;00madls_silver\u001B[38;5;132;01m}\u001B[39;00m\u001B[38;5;124m/car_sales/\u001B[39m\u001B[38;5;132;01m{\u001B[39;00mdate_id\u001B[38;5;132;01m}\u001B[39;00m\u001B[38;5;124m` limit 10\u001B[39m\n",
       "\u001B[1;32m      3\u001B[0m \u001B[38;5;124m'''\u001B[39m)\u001B[38;5;241m.\u001B[39mdisplay()\n",
       "\n",
       "File \u001B[0;32m/databricks/spark/python/pyspark/instrumentation_utils.py:47\u001B[0m, in \u001B[0;36m_wrap_function.<locals>.wrapper\u001B[0;34m(*args, **kwargs)\u001B[0m\n",
       "\u001B[1;32m     45\u001B[0m start \u001B[38;5;241m=\u001B[39m time\u001B[38;5;241m.\u001B[39mperf_counter()\n",
       "\u001B[1;32m     46\u001B[0m \u001B[38;5;28;01mtry\u001B[39;00m:\n",
       "\u001B[0;32m---> 47\u001B[0m     res \u001B[38;5;241m=\u001B[39m func(\u001B[38;5;241m*\u001B[39margs, \u001B[38;5;241m*\u001B[39m\u001B[38;5;241m*\u001B[39mkwargs)\n",
       "\u001B[1;32m     48\u001B[0m     logger\u001B[38;5;241m.\u001B[39mlog_success(\n",
       "\u001B[1;32m     49\u001B[0m         module_name, class_name, function_name, time\u001B[38;5;241m.\u001B[39mperf_counter() \u001B[38;5;241m-\u001B[39m start, signature\n",
       "\u001B[1;32m     50\u001B[0m     )\n",
       "\u001B[1;32m     51\u001B[0m     \u001B[38;5;28;01mreturn\u001B[39;00m res\n",
       "\n",
       "File \u001B[0;32m/databricks/spark/python/pyspark/sql/session.py:1825\u001B[0m, in \u001B[0;36mSparkSession.sql\u001B[0;34m(self, sqlQuery, args, **kwargs)\u001B[0m\n",
       "\u001B[1;32m   1820\u001B[0m     \u001B[38;5;28;01melse\u001B[39;00m:\n",
       "\u001B[1;32m   1821\u001B[0m         \u001B[38;5;28;01mraise\u001B[39;00m PySparkTypeError(\n",
       "\u001B[1;32m   1822\u001B[0m             error_class\u001B[38;5;241m=\u001B[39m\u001B[38;5;124m\"\u001B[39m\u001B[38;5;124mINVALID_TYPE\u001B[39m\u001B[38;5;124m\"\u001B[39m,\n",
       "\u001B[1;32m   1823\u001B[0m             message_parameters\u001B[38;5;241m=\u001B[39m{\u001B[38;5;124m\"\u001B[39m\u001B[38;5;124marg_name\u001B[39m\u001B[38;5;124m\"\u001B[39m: \u001B[38;5;124m\"\u001B[39m\u001B[38;5;124margs\u001B[39m\u001B[38;5;124m\"\u001B[39m, \u001B[38;5;124m\"\u001B[39m\u001B[38;5;124marg_type\u001B[39m\u001B[38;5;124m\"\u001B[39m: \u001B[38;5;28mtype\u001B[39m(args)\u001B[38;5;241m.\u001B[39m\u001B[38;5;18m__name__\u001B[39m},\n",
       "\u001B[1;32m   1824\u001B[0m         )\n",
       "\u001B[0;32m-> 1825\u001B[0m     \u001B[38;5;28;01mreturn\u001B[39;00m DataFrame(\u001B[38;5;28mself\u001B[39m\u001B[38;5;241m.\u001B[39m_jsparkSession\u001B[38;5;241m.\u001B[39msql(sqlQuery, litArgs), \u001B[38;5;28mself\u001B[39m)\n",
       "\u001B[1;32m   1826\u001B[0m \u001B[38;5;28;01mfinally\u001B[39;00m:\n",
       "\u001B[1;32m   1827\u001B[0m     \u001B[38;5;28;01mif\u001B[39;00m \u001B[38;5;28mlen\u001B[39m(kwargs) \u001B[38;5;241m>\u001B[39m \u001B[38;5;241m0\u001B[39m:\n",
       "\n",
       "File \u001B[0;32m/databricks/spark/python/lib/py4j-0.10.9.7-src.zip/py4j/java_gateway.py:1355\u001B[0m, in \u001B[0;36mJavaMember.__call__\u001B[0;34m(self, *args)\u001B[0m\n",
       "\u001B[1;32m   1349\u001B[0m command \u001B[38;5;241m=\u001B[39m proto\u001B[38;5;241m.\u001B[39mCALL_COMMAND_NAME \u001B[38;5;241m+\u001B[39m\\\n",
       "\u001B[1;32m   1350\u001B[0m     \u001B[38;5;28mself\u001B[39m\u001B[38;5;241m.\u001B[39mcommand_header \u001B[38;5;241m+\u001B[39m\\\n",
       "\u001B[1;32m   1351\u001B[0m     args_command \u001B[38;5;241m+\u001B[39m\\\n",
       "\u001B[1;32m   1352\u001B[0m     proto\u001B[38;5;241m.\u001B[39mEND_COMMAND_PART\n",
       "\u001B[1;32m   1354\u001B[0m answer \u001B[38;5;241m=\u001B[39m \u001B[38;5;28mself\u001B[39m\u001B[38;5;241m.\u001B[39mgateway_client\u001B[38;5;241m.\u001B[39msend_command(command)\n",
       "\u001B[0;32m-> 1355\u001B[0m return_value \u001B[38;5;241m=\u001B[39m get_return_value(\n",
       "\u001B[1;32m   1356\u001B[0m     answer, \u001B[38;5;28mself\u001B[39m\u001B[38;5;241m.\u001B[39mgateway_client, \u001B[38;5;28mself\u001B[39m\u001B[38;5;241m.\u001B[39mtarget_id, \u001B[38;5;28mself\u001B[39m\u001B[38;5;241m.\u001B[39mname)\n",
       "\u001B[1;32m   1358\u001B[0m \u001B[38;5;28;01mfor\u001B[39;00m temp_arg \u001B[38;5;129;01min\u001B[39;00m temp_args:\n",
       "\u001B[1;32m   1359\u001B[0m     \u001B[38;5;28;01mif\u001B[39;00m \u001B[38;5;28mhasattr\u001B[39m(temp_arg, \u001B[38;5;124m\"\u001B[39m\u001B[38;5;124m_detach\u001B[39m\u001B[38;5;124m\"\u001B[39m):\n",
       "\n",
       "File \u001B[0;32m/databricks/spark/python/pyspark/errors/exceptions/captured.py:261\u001B[0m, in \u001B[0;36mcapture_sql_exception.<locals>.deco\u001B[0;34m(*a, **kw)\u001B[0m\n",
       "\u001B[1;32m    257\u001B[0m converted \u001B[38;5;241m=\u001B[39m convert_exception(e\u001B[38;5;241m.\u001B[39mjava_exception)\n",
       "\u001B[1;32m    258\u001B[0m \u001B[38;5;28;01mif\u001B[39;00m \u001B[38;5;129;01mnot\u001B[39;00m \u001B[38;5;28misinstance\u001B[39m(converted, UnknownException):\n",
       "\u001B[1;32m    259\u001B[0m     \u001B[38;5;66;03m# Hide where the exception came from that shows a non-Pythonic\u001B[39;00m\n",
       "\u001B[1;32m    260\u001B[0m     \u001B[38;5;66;03m# JVM exception message.\u001B[39;00m\n",
       "\u001B[0;32m--> 261\u001B[0m     \u001B[38;5;28;01mraise\u001B[39;00m converted \u001B[38;5;28;01mfrom\u001B[39;00m \u001B[38;5;28;01mNone\u001B[39;00m\n",
       "\u001B[1;32m    262\u001B[0m \u001B[38;5;28;01melse\u001B[39;00m:\n",
       "\u001B[1;32m    263\u001B[0m     \u001B[38;5;28;01mraise\u001B[39;00m\n",
       "\n",
       "\u001B[0;31mAnalysisException\u001B[0m: [PATH_NOT_FOUND] Path does not exist: abfss://silver@carhuymdatalake.dfs.core.windows.net/car_sales/DT01248. SQLSTATE: 42K03"
      ]
     },
     "metadata": {
      "application/vnd.databricks.v1+output": {
       "addedWidgets": {},
       "arguments": {},
       "datasetInfos": [],
       "jupyterProps": {
        "ename": "AnalysisException",
        "evalue": "[PATH_NOT_FOUND] Path does not exist: abfss://silver@carhuymdatalake.dfs.core.windows.net/car_sales/DT01248. SQLSTATE: 42K03"
       },
       "metadata": {
        "errorSummary": "[PATH_NOT_FOUND] Path does not exist: abfss://silver@carhuymdatalake.dfs.core.windows.net/car_sales/DT01248. SQLSTATE: 42K03"
       },
       "removedWidgets": [],
       "sqlProps": {
        "errorClass": "PATH_NOT_FOUND",
        "pysparkCallSite": null,
        "pysparkFragment": null,
        "sqlState": "42K03",
        "stackTrace": null,
        "startIndex": null,
        "stopIndex": null
       },
       "stackFrames": [
        "\u001B[0;31m---------------------------------------------------------------------------\u001B[0m",
        "\u001B[0;31mAnalysisException\u001B[0m                         Traceback (most recent call last)",
        "File \u001B[0;32m<command-8621545377553699>, line 1\u001B[0m\n\u001B[0;32m----> 1\u001B[0m spark\u001B[38;5;241m.\u001B[39msql(\u001B[38;5;124mf\u001B[39m\u001B[38;5;124m'''\u001B[39m\n\u001B[1;32m      2\u001B[0m \u001B[38;5;124mselect * from parquet.`\u001B[39m\u001B[38;5;132;01m{\u001B[39;00madls_silver\u001B[38;5;132;01m}\u001B[39;00m\u001B[38;5;124m/car_sales/\u001B[39m\u001B[38;5;132;01m{\u001B[39;00mdate_id\u001B[38;5;132;01m}\u001B[39;00m\u001B[38;5;124m` limit 10\u001B[39m\n\u001B[1;32m      3\u001B[0m \u001B[38;5;124m'''\u001B[39m)\u001B[38;5;241m.\u001B[39mdisplay()\n",
        "File \u001B[0;32m/databricks/spark/python/pyspark/instrumentation_utils.py:47\u001B[0m, in \u001B[0;36m_wrap_function.<locals>.wrapper\u001B[0;34m(*args, **kwargs)\u001B[0m\n\u001B[1;32m     45\u001B[0m start \u001B[38;5;241m=\u001B[39m time\u001B[38;5;241m.\u001B[39mperf_counter()\n\u001B[1;32m     46\u001B[0m \u001B[38;5;28;01mtry\u001B[39;00m:\n\u001B[0;32m---> 47\u001B[0m     res \u001B[38;5;241m=\u001B[39m func(\u001B[38;5;241m*\u001B[39margs, \u001B[38;5;241m*\u001B[39m\u001B[38;5;241m*\u001B[39mkwargs)\n\u001B[1;32m     48\u001B[0m     logger\u001B[38;5;241m.\u001B[39mlog_success(\n\u001B[1;32m     49\u001B[0m         module_name, class_name, function_name, time\u001B[38;5;241m.\u001B[39mperf_counter() \u001B[38;5;241m-\u001B[39m start, signature\n\u001B[1;32m     50\u001B[0m     )\n\u001B[1;32m     51\u001B[0m     \u001B[38;5;28;01mreturn\u001B[39;00m res\n",
        "File \u001B[0;32m/databricks/spark/python/pyspark/sql/session.py:1825\u001B[0m, in \u001B[0;36mSparkSession.sql\u001B[0;34m(self, sqlQuery, args, **kwargs)\u001B[0m\n\u001B[1;32m   1820\u001B[0m     \u001B[38;5;28;01melse\u001B[39;00m:\n\u001B[1;32m   1821\u001B[0m         \u001B[38;5;28;01mraise\u001B[39;00m PySparkTypeError(\n\u001B[1;32m   1822\u001B[0m             error_class\u001B[38;5;241m=\u001B[39m\u001B[38;5;124m\"\u001B[39m\u001B[38;5;124mINVALID_TYPE\u001B[39m\u001B[38;5;124m\"\u001B[39m,\n\u001B[1;32m   1823\u001B[0m             message_parameters\u001B[38;5;241m=\u001B[39m{\u001B[38;5;124m\"\u001B[39m\u001B[38;5;124marg_name\u001B[39m\u001B[38;5;124m\"\u001B[39m: \u001B[38;5;124m\"\u001B[39m\u001B[38;5;124margs\u001B[39m\u001B[38;5;124m\"\u001B[39m, \u001B[38;5;124m\"\u001B[39m\u001B[38;5;124marg_type\u001B[39m\u001B[38;5;124m\"\u001B[39m: \u001B[38;5;28mtype\u001B[39m(args)\u001B[38;5;241m.\u001B[39m\u001B[38;5;18m__name__\u001B[39m},\n\u001B[1;32m   1824\u001B[0m         )\n\u001B[0;32m-> 1825\u001B[0m     \u001B[38;5;28;01mreturn\u001B[39;00m DataFrame(\u001B[38;5;28mself\u001B[39m\u001B[38;5;241m.\u001B[39m_jsparkSession\u001B[38;5;241m.\u001B[39msql(sqlQuery, litArgs), \u001B[38;5;28mself\u001B[39m)\n\u001B[1;32m   1826\u001B[0m \u001B[38;5;28;01mfinally\u001B[39;00m:\n\u001B[1;32m   1827\u001B[0m     \u001B[38;5;28;01mif\u001B[39;00m \u001B[38;5;28mlen\u001B[39m(kwargs) \u001B[38;5;241m>\u001B[39m \u001B[38;5;241m0\u001B[39m:\n",
        "File \u001B[0;32m/databricks/spark/python/lib/py4j-0.10.9.7-src.zip/py4j/java_gateway.py:1355\u001B[0m, in \u001B[0;36mJavaMember.__call__\u001B[0;34m(self, *args)\u001B[0m\n\u001B[1;32m   1349\u001B[0m command \u001B[38;5;241m=\u001B[39m proto\u001B[38;5;241m.\u001B[39mCALL_COMMAND_NAME \u001B[38;5;241m+\u001B[39m\\\n\u001B[1;32m   1350\u001B[0m     \u001B[38;5;28mself\u001B[39m\u001B[38;5;241m.\u001B[39mcommand_header \u001B[38;5;241m+\u001B[39m\\\n\u001B[1;32m   1351\u001B[0m     args_command \u001B[38;5;241m+\u001B[39m\\\n\u001B[1;32m   1352\u001B[0m     proto\u001B[38;5;241m.\u001B[39mEND_COMMAND_PART\n\u001B[1;32m   1354\u001B[0m answer \u001B[38;5;241m=\u001B[39m \u001B[38;5;28mself\u001B[39m\u001B[38;5;241m.\u001B[39mgateway_client\u001B[38;5;241m.\u001B[39msend_command(command)\n\u001B[0;32m-> 1355\u001B[0m return_value \u001B[38;5;241m=\u001B[39m get_return_value(\n\u001B[1;32m   1356\u001B[0m     answer, \u001B[38;5;28mself\u001B[39m\u001B[38;5;241m.\u001B[39mgateway_client, \u001B[38;5;28mself\u001B[39m\u001B[38;5;241m.\u001B[39mtarget_id, \u001B[38;5;28mself\u001B[39m\u001B[38;5;241m.\u001B[39mname)\n\u001B[1;32m   1358\u001B[0m \u001B[38;5;28;01mfor\u001B[39;00m temp_arg \u001B[38;5;129;01min\u001B[39;00m temp_args:\n\u001B[1;32m   1359\u001B[0m     \u001B[38;5;28;01mif\u001B[39;00m \u001B[38;5;28mhasattr\u001B[39m(temp_arg, \u001B[38;5;124m\"\u001B[39m\u001B[38;5;124m_detach\u001B[39m\u001B[38;5;124m\"\u001B[39m):\n",
        "File \u001B[0;32m/databricks/spark/python/pyspark/errors/exceptions/captured.py:261\u001B[0m, in \u001B[0;36mcapture_sql_exception.<locals>.deco\u001B[0;34m(*a, **kw)\u001B[0m\n\u001B[1;32m    257\u001B[0m converted \u001B[38;5;241m=\u001B[39m convert_exception(e\u001B[38;5;241m.\u001B[39mjava_exception)\n\u001B[1;32m    258\u001B[0m \u001B[38;5;28;01mif\u001B[39;00m \u001B[38;5;129;01mnot\u001B[39;00m \u001B[38;5;28misinstance\u001B[39m(converted, UnknownException):\n\u001B[1;32m    259\u001B[0m     \u001B[38;5;66;03m# Hide where the exception came from that shows a non-Pythonic\u001B[39;00m\n\u001B[1;32m    260\u001B[0m     \u001B[38;5;66;03m# JVM exception message.\u001B[39;00m\n\u001B[0;32m--> 261\u001B[0m     \u001B[38;5;28;01mraise\u001B[39;00m converted \u001B[38;5;28;01mfrom\u001B[39;00m \u001B[38;5;28;01mNone\u001B[39;00m\n\u001B[1;32m    262\u001B[0m \u001B[38;5;28;01melse\u001B[39;00m:\n\u001B[1;32m    263\u001B[0m     \u001B[38;5;28;01mraise\u001B[39;00m\n",
        "\u001B[0;31mAnalysisException\u001B[0m: [PATH_NOT_FOUND] Path does not exist: abfss://silver@carhuymdatalake.dfs.core.windows.net/car_sales/DT01248. SQLSTATE: 42K03"
       ],
       "type": "baseError"
      }
     },
     "output_type": "display_data"
    }
   ],
   "source": [
    "\n",
    "spark.sql(f'''\n",
    "select * from parquet.`{adls_silver}/car_sales/{date_id}` limit 10\n",
    "''').display()"
   ]
  },
  {
   "cell_type": "code",
   "execution_count": 0,
   "metadata": {
    "application/vnd.databricks.v1+cell": {
     "cellMetadata": {},
     "inputWidgets": {},
     "nuid": "2aa356b8-09d1-4052-b694-76b4dfa1cf96",
     "showTitle": false,
     "tableResultSettingsMap": {},
     "title": ""
    }
   },
   "outputs": [],
   "source": []
  }
 ],
 "metadata": {
  "application/vnd.databricks.v1+notebook": {
   "computePreferences": null,
   "dashboards": [],
   "environmentMetadata": {
    "base_environment": "",
    "client": "1"
   },
   "language": "python",
   "notebookMetadata": {
    "mostRecentlyExecutedCommandWithImplicitDF": {
     "commandId": -1,
     "dataframes": [
      "_sqldf"
     ]
    },
    "pythonIndentUnit": 4
   },
   "notebookName": "silver_notebook",
   "widgets": {
    "date_id": {
     "currentValue": "DT01248",
     "nuid": "971338c6-eac9-49ef-998e-4faefca26b79",
     "typedWidgetInfo": {
      "autoCreated": false,
      "defaultValue": "DT00000",
      "label": null,
      "name": "date_id",
      "options": {
       "widgetDisplayType": "Text",
       "validationRegex": null
      },
      "parameterDataType": "String"
     },
     "widgetInfo": {
      "widgetType": "text",
      "defaultValue": "DT00000",
      "label": null,
      "name": "date_id",
      "options": {
       "widgetType": "text",
       "autoCreated": null,
       "validationRegex": null
      }
     }
    }
   }
  },
  "language_info": {
   "name": "python"
  }
 },
 "nbformat": 4,
 "nbformat_minor": 0
}