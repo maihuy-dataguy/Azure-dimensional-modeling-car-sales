{
 "cells": [
  {
   "cell_type": "code",
   "execution_count": 0,
   "metadata": {
    "application/vnd.databricks.v1+cell": {
     "cellMetadata": {
      "byteLimit": 2048000,
      "rowLimit": 10000
     },
     "inputWidgets": {},
     "nuid": "03371273-6230-477f-8fa7-924d414695a6",
     "showTitle": false,
     "tableResultSettingsMap": {},
     "title": ""
    }
   },
   "outputs": [],
   "source": [
    "from pyspark.sql.functions import *\n",
    "from pyspark.sql.types import *\n",
    "from pyspark.sql.window import Window\n",
    "from delta.tables import DeltaTable\n",
    "\n",
    "layers = ['bronze','silver','gold']\n",
    "storage_account = dbutils.widgets.get('storage_account')\n",
    "dim_branch_table = dbutils.widgets.get('dim_branch_table')\n",
    "dim_date_table = dbutils.widgets.get('dim_date_table')\n",
    "dim_dealer_table = dbutils.widgets.get('dim_dealer_table')\n",
    "dim_model_table = dbutils.widgets.get('dim_model_table')\n",
    "fact_table = dbutils.widgets.get('fact_table')\n",
    "adls = {layer: f'abfss://{layer}@{storage_account}.dfs.core.windows.net' for layer in layers}\n",
    "\n",
    "date_id = dbutils.widgets.get('date_id')\n",
    "\n",
    "adls_bronze = adls['bronze']\n",
    "adls_silver = adls['silver']\n",
    "adls_gold = adls['gold']"
   ]
  },
  {
   "cell_type": "markdown",
   "metadata": {
    "application/vnd.databricks.v1+cell": {
     "cellMetadata": {},
     "inputWidgets": {},
     "nuid": "dfd32bf3-2ecd-4dff-8425-3b7d06fd4866",
     "showTitle": false,
     "tableResultSettingsMap": {},
     "title": ""
    }
   },
   "source": [
    "# Create fact talbe"
   ]
  },
  {
   "cell_type": "markdown",
   "metadata": {
    "application/vnd.databricks.v1+cell": {
     "cellMetadata": {},
     "inputWidgets": {},
     "nuid": "7800bc4c-c9fb-4cf4-966f-baa5f2b3b876",
     "showTitle": false,
     "tableResultSettingsMap": {},
     "title": ""
    }
   },
   "source": [
    "### Reading silver data"
   ]
  },
  {
   "cell_type": "code",
   "execution_count": 0,
   "metadata": {
    "application/vnd.databricks.v1+cell": {
     "cellMetadata": {
      "byteLimit": 2048000,
      "rowLimit": 10000
     },
     "inputWidgets": {},
     "nuid": "70ca55fd-518a-4ec6-8d4f-32ddc497ef34",
     "showTitle": false,
     "tableResultSettingsMap": {},
     "title": ""
    }
   },
   "outputs": [],
   "source": [
    "df_silver = spark.sql(f'''\n",
    "                      select * from parquet.`{adls_silver}/car_sales/{date_id}`\n",
    "                      ''')"
   ]
  },
  {
   "cell_type": "code",
   "execution_count": 0,
   "metadata": {
    "application/vnd.databricks.v1+cell": {
     "cellMetadata": {
      "byteLimit": 2048000,
      "rowLimit": 10000
     },
     "inputWidgets": {},
     "nuid": "58eff6a0-5f2c-4a3a-93a9-2efa2d723bdc",
     "showTitle": false,
     "tableResultSettingsMap": {},
     "title": ""
    }
   },
   "outputs": [
    {
     "output_type": "display_data",
     "data": {
      "text/html": [
       "<style scoped>\n",
       "  .table-result-container {\n",
       "    max-height: 300px;\n",
       "    overflow: auto;\n",
       "  }\n",
       "  table, th, td {\n",
       "    border: 1px solid black;\n",
       "    border-collapse: collapse;\n",
       "  }\n",
       "  th, td {\n",
       "    padding: 5px;\n",
       "  }\n",
       "  th {\n",
       "    text-align: left;\n",
       "  }\n",
       "</style><div class='table-result-container'><table class='table-result'><thead style='background-color: white'><tr><th>Branch_ID</th><th>Dealer_ID</th><th>Model_ID</th><th>Revenue</th><th>Units_Sold</th><th>Date_ID</th><th>Day</th><th>Month</th><th>Year</th><th>BranchName</th><th>DealerName</th><th>Product_Name</th><th>model_category</th><th>RevPerUnit</th></tr></thead><tbody><tr><td>BR0001</td><td>DLR0001</td><td>BMW-M1</td><td>13363978</td><td>2</td><td>DT00001</td><td>1</td><td>1</td><td>2017</td><td>AC Cars Motors</td><td>AC Cars Motors</td><td>BMW</td><td>BMW</td><td>6681989.0</td></tr><tr><td>BR0003</td><td>DLR0228</td><td>Hon-M218</td><td>17376468</td><td>3</td><td>DT00001</td><td>10</td><td>5</td><td>2017</td><td>AC Cars Motors</td><td>Deccan Motors</td><td>Honda</td><td>Hon</td><td>5792156.0</td></tr><tr><td>BR0004</td><td>DLR0208</td><td>Tat-M188</td><td>9664767</td><td>3</td><td>DT00002</td><td>12</td><td>1</td><td>2017</td><td>AC Cars Motors</td><td>Wiesmann Motors</td><td>Tata</td><td>Tat</td><td>3221589.0</td></tr><tr><td>BR0005</td><td>DLR0188</td><td>Hyu-M158</td><td>5525304</td><td>3</td><td>DT00002</td><td>16</td><td>9</td><td>2017</td><td>AC Cars Motors</td><td>Subaru Motors</td><td>Hyundai</td><td>Hyu</td><td>1841768.0</td></tr><tr><td>BR0006</td><td>DLR0168</td><td>Ren-M128</td><td>12971088</td><td>3</td><td>DT00003</td><td>20</td><td>5</td><td>2017</td><td>AC Cars Motors</td><td>Saab Motors</td><td>Renault</td><td>Ren</td><td>4323696.0</td></tr><tr><td>BR0008</td><td>DLR0128</td><td>Hon-M68</td><td>7321228</td><td>1</td><td>DT00004</td><td>28</td><td>4</td><td>2017</td><td>AC Cars Motors</td><td>Messerschmitt Motors</td><td>Honda</td><td>Hon</td><td>7321228.0</td></tr><tr><td>BR0009</td><td>DLR0108</td><td>Cad-M38</td><td>11379294</td><td>2</td><td>DT00004</td><td>31</td><td>12</td><td>2017</td><td>AC Cars Motors</td><td>Lexus Motors</td><td>Cadillac</td><td>Cad</td><td>5689647.0</td></tr><tr><td>BR0010</td><td>DLR0088</td><td>Mer-M8</td><td>11611234</td><td>2</td><td>DT00005</td><td>4</td><td>9</td><td>2017</td><td>AC Cars Motors</td><td>IFA (including Trabant, Wartburg, Barkas) Motors</td><td>Mercedes-Benz</td><td>Mer</td><td>5805617.0</td></tr><tr><td>BR0011</td><td>DLR0002</td><td>BMW-M2</td><td>19979446</td><td>2</td><td>DT00005</td><td>2</td><td>1</td><td>2017</td><td>Acura Motors</td><td>Acura Motors</td><td>BMW</td><td>BMW</td><td>9989723.0</td></tr><tr><td>BR0011</td><td>DLR0069</td><td>Vol-M256</td><td>14181510</td><td>3</td><td>DT00006</td><td>9</td><td>5</td><td>2017</td><td>Acura Motors</td><td>Geo Motors</td><td>Volkswagen</td><td>Vol</td><td>4727170.0</td></tr></tbody></table></div>"
      ]
     },
     "metadata": {
      "application/vnd.databricks.v1+output": {
       "addedWidgets": {},
       "aggData": [],
       "aggError": "",
       "aggOverflow": false,
       "aggSchema": [],
       "aggSeriesLimitReached": false,
       "aggType": "",
       "arguments": {},
       "columnCustomDisplayInfos": {},
       "data": [
        [
         "BR0001",
         "DLR0001",
         "BMW-M1",
         13363978,
         2,
         "DT00001",
         1,
         1,
         2017,
         "AC Cars Motors",
         "AC Cars Motors",
         "BMW",
         "BMW",
         6681989.0
        ],
        [
         "BR0003",
         "DLR0228",
         "Hon-M218",
         17376468,
         3,
         "DT00001",
         10,
         5,
         2017,
         "AC Cars Motors",
         "Deccan Motors",
         "Honda",
         "Hon",
         5792156.0
        ],
        [
         "BR0004",
         "DLR0208",
         "Tat-M188",
         9664767,
         3,
         "DT00002",
         12,
         1,
         2017,
         "AC Cars Motors",
         "Wiesmann Motors",
         "Tata",
         "Tat",
         3221589.0
        ],
        [
         "BR0005",
         "DLR0188",
         "Hyu-M158",
         5525304,
         3,
         "DT00002",
         16,
         9,
         2017,
         "AC Cars Motors",
         "Subaru Motors",
         "Hyundai",
         "Hyu",
         1841768.0
        ],
        [
         "BR0006",
         "DLR0168",
         "Ren-M128",
         12971088,
         3,
         "DT00003",
         20,
         5,
         2017,
         "AC Cars Motors",
         "Saab Motors",
         "Renault",
         "Ren",
         4323696.0
        ],
        [
         "BR0008",
         "DLR0128",
         "Hon-M68",
         7321228,
         1,
         "DT00004",
         28,
         4,
         2017,
         "AC Cars Motors",
         "Messerschmitt Motors",
         "Honda",
         "Hon",
         7321228.0
        ],
        [
         "BR0009",
         "DLR0108",
         "Cad-M38",
         11379294,
         2,
         "DT00004",
         31,
         12,
         2017,
         "AC Cars Motors",
         "Lexus Motors",
         "Cadillac",
         "Cad",
         5689647.0
        ],
        [
         "BR0010",
         "DLR0088",
         "Mer-M8",
         11611234,
         2,
         "DT00005",
         4,
         9,
         2017,
         "AC Cars Motors",
         "IFA (including Trabant, Wartburg, Barkas) Motors",
         "Mercedes-Benz",
         "Mer",
         5805617.0
        ],
        [
         "BR0011",
         "DLR0002",
         "BMW-M2",
         19979446,
         2,
         "DT00005",
         2,
         1,
         2017,
         "Acura Motors",
         "Acura Motors",
         "BMW",
         "BMW",
         9989723.0
        ],
        [
         "BR0011",
         "DLR0069",
         "Vol-M256",
         14181510,
         3,
         "DT00006",
         9,
         5,
         2017,
         "Acura Motors",
         "Geo Motors",
         "Volkswagen",
         "Vol",
         4727170.0
        ]
       ],
       "datasetInfos": [],
       "dbfsResultPath": null,
       "isJsonSchema": true,
       "metadata": {},
       "overflow": false,
       "plotOptions": {
        "customPlotOptions": {},
        "displayType": "table",
        "pivotAggregation": null,
        "pivotColumns": null,
        "xColumns": null,
        "yColumns": null
       },
       "removedWidgets": [],
       "schema": [
        {
         "metadata": "{}",
         "name": "Branch_ID",
         "type": "\"string\""
        },
        {
         "metadata": "{}",
         "name": "Dealer_ID",
         "type": "\"string\""
        },
        {
         "metadata": "{}",
         "name": "Model_ID",
         "type": "\"string\""
        },
        {
         "metadata": "{}",
         "name": "Revenue",
         "type": "\"long\""
        },
        {
         "metadata": "{}",
         "name": "Units_Sold",
         "type": "\"long\""
        },
        {
         "metadata": "{}",
         "name": "Date_ID",
         "type": "\"string\""
        },
        {
         "metadata": "{}",
         "name": "Day",
         "type": "\"integer\""
        },
        {
         "metadata": "{}",
         "name": "Month",
         "type": "\"integer\""
        },
        {
         "metadata": "{}",
         "name": "Year",
         "type": "\"integer\""
        },
        {
         "metadata": "{}",
         "name": "BranchName",
         "type": "\"string\""
        },
        {
         "metadata": "{}",
         "name": "DealerName",
         "type": "\"string\""
        },
        {
         "metadata": "{}",
         "name": "Product_Name",
         "type": "\"string\""
        },
        {
         "metadata": "{}",
         "name": "model_category",
         "type": "\"string\""
        },
        {
         "metadata": "{}",
         "name": "RevPerUnit",
         "type": "\"double\""
        }
       ],
       "type": "table"
      }
     },
     "output_type": "display_data"
    }
   ],
   "source": [
    "df_silver.limit(10).display()"
   ]
  },
  {
   "cell_type": "markdown",
   "metadata": {
    "application/vnd.databricks.v1+cell": {
     "cellMetadata": {},
     "inputWidgets": {},
     "nuid": "885d7f0a-11df-4564-8a2b-06e09fbd6966",
     "showTitle": false,
     "tableResultSettingsMap": {},
     "title": ""
    }
   },
   "source": [
    "### Reading all dims"
   ]
  },
  {
   "cell_type": "code",
   "execution_count": 0,
   "metadata": {
    "application/vnd.databricks.v1+cell": {
     "cellMetadata": {
      "byteLimit": 2048000,
      "rowLimit": 10000
     },
     "inputWidgets": {},
     "nuid": "e728e13c-b90a-431a-a733-0eb7e1ca300a",
     "showTitle": false,
     "tableResultSettingsMap": {},
     "title": ""
    }
   },
   "outputs": [],
   "source": [
    "df_dealer = spark.sql(f'select * from cars_catalog.gold.{dim_dealer_table}')\n",
    "df_branch = spark.sql(f'select * from cars_catalog.gold.{dim_branch_table}')\n",
    "df_date = spark.sql(f'select * from cars_catalog.gold.{dim_date_table}')\n",
    "df_model = spark.sql(f'select * from cars_catalog.gold.{dim_model_table}')"
   ]
  },
  {
   "cell_type": "markdown",
   "metadata": {
    "application/vnd.databricks.v1+cell": {
     "cellMetadata": {},
     "inputWidgets": {},
     "nuid": "af497da3-04ec-4484-a8a4-198358b8f0e4",
     "showTitle": false,
     "tableResultSettingsMap": {},
     "title": ""
    }
   },
   "source": [
    "### Bring keys to fact table"
   ]
  },
  {
   "cell_type": "code",
   "execution_count": 0,
   "metadata": {
    "application/vnd.databricks.v1+cell": {
     "cellMetadata": {
      "byteLimit": 2048000,
      "rowLimit": 10000
     },
     "inputWidgets": {},
     "nuid": "8156ddcf-c84b-4b53-86a9-629b899c8d29",
     "showTitle": false,
     "tableResultSettingsMap": {},
     "title": ""
    }
   },
   "outputs": [],
   "source": [
    "df_fact = df_silver.join(df_branch,df_silver['Branch_ID'] == df_branch['Branch_ID'],how='left')\\\n",
    "                    .join(df_dealer,df_silver['Dealer_ID'] == df_dealer['Dealer_ID'],how='left')\\\n",
    "                    .join(df_date,df_silver['Date_ID'] == df_date['Date_ID'],how='left')\\\n",
    "                    .join(df_model,df_silver['Model_ID'] == df_model['Model_ID'],how='left')\\\n",
    "                    .select(\n",
    "                        df_branch['dim_branch_key'],df_dealer['dim_dealer_key'],df_date['dim_date_key'],df_model['dim_model_key'],\n",
    "                        df_silver['RevPerUnit'],df_silver['Revenue'],df_silver['Units_Sold']\n",
    "                    )"
   ]
  },
  {
   "cell_type": "code",
   "execution_count": 0,
   "metadata": {
    "application/vnd.databricks.v1+cell": {
     "cellMetadata": {
      "byteLimit": 2048000,
      "rowLimit": 10000
     },
     "inputWidgets": {},
     "nuid": "8aaeeba0-7124-4ec9-bbb2-6ae9808f765f",
     "showTitle": false,
     "tableResultSettingsMap": {},
     "title": ""
    }
   },
   "outputs": [
    {
     "output_type": "display_data",
     "data": {
      "text/html": [
       "<style scoped>\n",
       "  .table-result-container {\n",
       "    max-height: 300px;\n",
       "    overflow: auto;\n",
       "  }\n",
       "  table, th, td {\n",
       "    border: 1px solid black;\n",
       "    border-collapse: collapse;\n",
       "  }\n",
       "  th, td {\n",
       "    padding: 5px;\n",
       "  }\n",
       "  th {\n",
       "    text-align: left;\n",
       "  }\n",
       "</style><div class='table-result-container'><table class='table-result'><thead style='background-color: white'><tr><th>dim_branch_key</th><th>dim_dealer_key</th><th>dim_date_key</th><th>dim_model_key</th><th>RevPerUnit</th><th>Revenue</th><th>Units_Sold</th></tr></thead><tbody><tr><td>418</td><td>6</td><td>825</td><td>155</td><td>6681989.0</td><td>13363978</td><td>2</td></tr><tr><td>1557</td><td>197</td><td>825</td><td>252</td><td>5792156.0</td><td>17376468</td><td>3</td></tr><tr><td>1058</td><td>104</td><td>752</td><td>199</td><td>3221589.0</td><td>9664767</td><td>3</td></tr><tr><td>789</td><td>95</td><td>752</td><td>183</td><td>1841768.0</td><td>5525304</td><td>3</td></tr><tr><td>497</td><td>231</td><td>882</td><td>106</td><td>4323696.0</td><td>12971088</td><td>3</td></tr><tr><td>1804</td><td>41</td><td>988</td><td>41</td><td>7321228.0</td><td>7321228</td><td>1</td></tr><tr><td>734</td><td>177</td><td>988</td><td>107</td><td>5689647.0</td><td>11379294</td><td>2</td></tr><tr><td>1211</td><td>182</td><td>1043</td><td>110</td><td>5805617.0</td><td>11611234</td><td>2</td></tr><tr><td>116</td><td>204</td><td>1043</td><td>185</td><td>9989723.0</td><td>19979446</td><td>2</td></tr><tr><td>116</td><td>160</td><td>826</td><td>238</td><td>4727170.0</td><td>14181510</td><td>3</td></tr></tbody></table></div>"
      ]
     },
     "metadata": {
      "application/vnd.databricks.v1+output": {
       "addedWidgets": {},
       "aggData": [],
       "aggError": "",
       "aggOverflow": false,
       "aggSchema": [],
       "aggSeriesLimitReached": false,
       "aggType": "",
       "arguments": {},
       "columnCustomDisplayInfos": {},
       "data": [
        [
         418,
         6,
         825,
         155,
         6681989.0,
         13363978,
         2
        ],
        [
         1557,
         197,
         825,
         252,
         5792156.0,
         17376468,
         3
        ],
        [
         1058,
         104,
         752,
         199,
         3221589.0,
         9664767,
         3
        ],
        [
         789,
         95,
         752,
         183,
         1841768.0,
         5525304,
         3
        ],
        [
         497,
         231,
         882,
         106,
         4323696.0,
         12971088,
         3
        ],
        [
         1804,
         41,
         988,
         41,
         7321228.0,
         7321228,
         1
        ],
        [
         734,
         177,
         988,
         107,
         5689647.0,
         11379294,
         2
        ],
        [
         1211,
         182,
         1043,
         110,
         5805617.0,
         11611234,
         2
        ],
        [
         116,
         204,
         1043,
         185,
         9989723.0,
         19979446,
         2
        ],
        [
         116,
         160,
         826,
         238,
         4727170.0,
         14181510,
         3
        ]
       ],
       "datasetInfos": [],
       "dbfsResultPath": null,
       "isJsonSchema": true,
       "metadata": {},
       "overflow": false,
       "plotOptions": {
        "customPlotOptions": {},
        "displayType": "table",
        "pivotAggregation": null,
        "pivotColumns": null,
        "xColumns": null,
        "yColumns": null
       },
       "removedWidgets": [],
       "schema": [
        {
         "metadata": "{}",
         "name": "dim_branch_key",
         "type": "\"long\""
        },
        {
         "metadata": "{}",
         "name": "dim_dealer_key",
         "type": "\"long\""
        },
        {
         "metadata": "{}",
         "name": "dim_date_key",
         "type": "\"long\""
        },
        {
         "metadata": "{}",
         "name": "dim_model_key",
         "type": "\"long\""
        },
        {
         "metadata": "{}",
         "name": "RevPerUnit",
         "type": "\"double\""
        },
        {
         "metadata": "{}",
         "name": "Revenue",
         "type": "\"long\""
        },
        {
         "metadata": "{}",
         "name": "Units_Sold",
         "type": "\"long\""
        }
       ],
       "type": "table"
      }
     },
     "output_type": "display_data"
    }
   ],
   "source": [
    "df_fact.limit(10).display()"
   ]
  },
  {
   "cell_type": "markdown",
   "metadata": {
    "application/vnd.databricks.v1+cell": {
     "cellMetadata": {},
     "inputWidgets": {},
     "nuid": "146d9ee2-5f00-40d2-9bf7-8aabff1564a7",
     "showTitle": false,
     "tableResultSettingsMap": {},
     "title": ""
    }
   },
   "source": [
    "### Writing fact table"
   ]
  },
  {
   "cell_type": "code",
   "execution_count": 0,
   "metadata": {
    "application/vnd.databricks.v1+cell": {
     "cellMetadata": {
      "byteLimit": 2048000,
      "rowLimit": 10000
     },
     "inputWidgets": {},
     "nuid": "683dddc0-0b82-4419-a682-a82d5a7cd91a",
     "showTitle": false,
     "tableResultSettingsMap": {},
     "title": ""
    }
   },
   "outputs": [],
   "source": [
    "if spark.catalog.tableExists(f'cars_catalog.gold.{fact_table}'):\n",
    "    delta_table = DeltaTable.forName(spark,f'cars_catalog.gold.{fact_table}')\n",
    "    delta_table.alias('target').merge(\n",
    "        df_fact.alias('source'),\n",
    "        'target.dim_branch_key = source.dim_branch_key AND target.dim_dealer_key = source.dim_dealer_key AND target.dim_date_key = source.dim_date_key AND target.dim_model_key = source.dim_model_key')\\\n",
    "        .whenMatchedUpdateAll()\\\n",
    "        .whenNotMatchedInsertAll()\\\n",
    "        .execute()\n",
    "    \n",
    "else:\n",
    "    df_fact.write.format('delta')\\\n",
    "        .mode('overwrite')\\\n",
    "        .option('path',f'{adls_gold}/fact_sales')\\\n",
    "        .saveAsTable(f'cars_catalog.gold.{fact_table}')"
   ]
  },
  {
   "cell_type": "code",
   "execution_count": 0,
   "metadata": {
    "application/vnd.databricks.v1+cell": {
     "cellMetadata": {
      "byteLimit": 2048000,
      "implicitDf": true,
      "rowLimit": 10000
     },
     "inputWidgets": {},
     "nuid": "d6b21519-cba7-4da5-a83c-ec8b93a0b915",
     "showTitle": false,
     "tableResultSettingsMap": {},
     "title": ""
    }
   },
   "outputs": [
    {
     "output_type": "display_data",
     "data": {
      "text/html": [
       "<style scoped>\n",
       "  .table-result-container {\n",
       "    max-height: 300px;\n",
       "    overflow: auto;\n",
       "  }\n",
       "  table, th, td {\n",
       "    border: 1px solid black;\n",
       "    border-collapse: collapse;\n",
       "  }\n",
       "  th, td {\n",
       "    padding: 5px;\n",
       "  }\n",
       "  th {\n",
       "    text-align: left;\n",
       "  }\n",
       "</style><div class='table-result-container'><table class='table-result'><thead style='background-color: white'><tr><th>dim_branch_key</th><th>dim_dealer_key</th><th>dim_date_key</th><th>dim_model_key</th><th>RevPerUnit</th><th>Revenue</th><th>Units_Sold</th></tr></thead><tbody><tr><td>418</td><td>6</td><td>825</td><td>155</td><td>6681989.0</td><td>13363978</td><td>2</td></tr><tr><td>1557</td><td>197</td><td>825</td><td>252</td><td>5792156.0</td><td>17376468</td><td>3</td></tr><tr><td>1058</td><td>104</td><td>752</td><td>199</td><td>3221589.0</td><td>9664767</td><td>3</td></tr><tr><td>789</td><td>95</td><td>752</td><td>183</td><td>1841768.0</td><td>5525304</td><td>3</td></tr><tr><td>497</td><td>231</td><td>882</td><td>106</td><td>4323696.0</td><td>12971088</td><td>3</td></tr><tr><td>1804</td><td>41</td><td>988</td><td>41</td><td>7321228.0</td><td>7321228</td><td>1</td></tr><tr><td>734</td><td>177</td><td>988</td><td>107</td><td>5689647.0</td><td>11379294</td><td>2</td></tr><tr><td>1211</td><td>182</td><td>1043</td><td>110</td><td>5805617.0</td><td>11611234</td><td>2</td></tr><tr><td>116</td><td>204</td><td>1043</td><td>185</td><td>9989723.0</td><td>19979446</td><td>2</td></tr><tr><td>116</td><td>160</td><td>826</td><td>238</td><td>4727170.0</td><td>14181510</td><td>3</td></tr></tbody></table></div>"
      ]
     },
     "metadata": {
      "application/vnd.databricks.v1+output": {
       "addedWidgets": {},
       "aggData": [],
       "aggError": "",
       "aggOverflow": false,
       "aggSchema": [],
       "aggSeriesLimitReached": false,
       "aggType": "",
       "arguments": {},
       "columnCustomDisplayInfos": {},
       "data": [
        [
         418,
         6,
         825,
         155,
         6681989.0,
         13363978,
         2
        ],
        [
         1557,
         197,
         825,
         252,
         5792156.0,
         17376468,
         3
        ],
        [
         1058,
         104,
         752,
         199,
         3221589.0,
         9664767,
         3
        ],
        [
         789,
         95,
         752,
         183,
         1841768.0,
         5525304,
         3
        ],
        [
         497,
         231,
         882,
         106,
         4323696.0,
         12971088,
         3
        ],
        [
         1804,
         41,
         988,
         41,
         7321228.0,
         7321228,
         1
        ],
        [
         734,
         177,
         988,
         107,
         5689647.0,
         11379294,
         2
        ],
        [
         1211,
         182,
         1043,
         110,
         5805617.0,
         11611234,
         2
        ],
        [
         116,
         204,
         1043,
         185,
         9989723.0,
         19979446,
         2
        ],
        [
         116,
         160,
         826,
         238,
         4727170.0,
         14181510,
         3
        ]
       ],
       "datasetInfos": [],
       "dbfsResultPath": null,
       "isJsonSchema": true,
       "metadata": {
        "createTempViewForImplicitDf": true,
        "dataframeName": "_sqldf",
        "executionCount": 103
       },
       "overflow": false,
       "plotOptions": {
        "customPlotOptions": {},
        "displayType": "table",
        "pivotAggregation": null,
        "pivotColumns": null,
        "xColumns": null,
        "yColumns": null
       },
       "removedWidgets": [],
       "schema": [
        {
         "metadata": "{}",
         "name": "dim_branch_key",
         "type": "\"long\""
        },
        {
         "metadata": "{}",
         "name": "dim_dealer_key",
         "type": "\"long\""
        },
        {
         "metadata": "{}",
         "name": "dim_date_key",
         "type": "\"long\""
        },
        {
         "metadata": "{}",
         "name": "dim_model_key",
         "type": "\"long\""
        },
        {
         "metadata": "{}",
         "name": "RevPerUnit",
         "type": "\"double\""
        },
        {
         "metadata": "{}",
         "name": "Revenue",
         "type": "\"long\""
        },
        {
         "metadata": "{}",
         "name": "Units_Sold",
         "type": "\"long\""
        }
       ],
       "type": "table"
      }
     },
     "output_type": "display_data"
    }
   ],
   "source": [
    "%sql\n",
    "select * from cars_catalog.gold.fact_sales limit(10)"
   ]
  }
 ],
 "metadata": {
  "application/vnd.databricks.v1+notebook": {
   "computePreferences": null,
   "dashboards": [],
   "environmentMetadata": {
    "base_environment": "",
    "client": "1"
   },
   "language": "python",
   "notebookMetadata": {
    "mostRecentlyExecutedCommandWithImplicitDF": {
     "commandId": 4544551482328655,
     "dataframes": [
      "_sqldf"
     ]
    },
    "pythonIndentUnit": 4
   },
   "notebookName": "gold_fact_sales",
   "widgets": {}
  },
  "language_info": {
   "name": "python"
  }
 },
 "nbformat": 4,
 "nbformat_minor": 0
}
