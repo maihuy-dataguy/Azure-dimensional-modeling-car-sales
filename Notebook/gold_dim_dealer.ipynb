{
 "cells": [
  {
   "cell_type": "markdown",
   "metadata": {
    "application/vnd.databricks.v1+cell": {
     "cellMetadata": {},
     "inputWidgets": {},
     "nuid": "5861f3d2-2479-4ee4-955b-a236bb70d2cf",
     "showTitle": false,
     "tableResultSettingsMap": {},
     "title": ""
    }
   },
   "source": [
    "# Import libraries and directories"
   ]
  },
  {
   "cell_type": "code",
   "execution_count": 0,
   "metadata": {
    "application/vnd.databricks.v1+cell": {
     "cellMetadata": {
      "byteLimit": 2048000,
      "rowLimit": 10000
     },
     "inputWidgets": {},
     "nuid": "41e262a2-6791-49de-aa50-5578bec0a565",
     "showTitle": false,
     "tableResultSettingsMap": {},
     "title": ""
    }
   },
   "outputs": [],
   "source": [
    "from pyspark.sql.functions import *\n",
    "from pyspark.sql.types import *\n",
    "from pyspark.sql.window import Window\n",
    "from delta.tables import DeltaTable\n",
    "\n",
    "layers = ['bronze','silver','gold']\n",
    "adls = {layer: f'abfss://{layer}@carhuymdatalake.dfs.core.windows.net' for layer in layers}\n",
    "\n",
    "date_id = dbutils.widgets.get('date_id')\n",
    "\n",
    "adls_bronze = adls['bronze']\n",
    "adls_silver = adls['silver']\n",
    "adls_gold = adls['gold']"
   ]
  },
  {
   "cell_type": "markdown",
   "metadata": {
    "application/vnd.databricks.v1+cell": {
     "cellMetadata": {},
     "inputWidgets": {},
     "nuid": "1be1d461-491c-4cfd-a966-3c985590fa17",
     "showTitle": false,
     "tableResultSettingsMap": {},
     "title": ""
    }
   },
   "source": [
    "# Create Flag parameter"
   ]
  },
  {
   "cell_type": "code",
   "execution_count": 0,
   "metadata": {
    "application/vnd.databricks.v1+cell": {
     "cellMetadata": {
      "byteLimit": 2048000,
      "rowLimit": 10000
     },
     "inputWidgets": {},
     "nuid": "6d545d51-cd12-44e3-acae-fa74d96a8002",
     "showTitle": false,
     "tableResultSettingsMap": {},
     "title": ""
    }
   },
   "outputs": [],
   "source": [
    "dbutils.widgets.text('incremental_flag','0')"
   ]
  },
  {
   "cell_type": "code",
   "execution_count": 0,
   "metadata": {
    "application/vnd.databricks.v1+cell": {
     "cellMetadata": {
      "byteLimit": 2048000,
      "rowLimit": 10000
     },
     "inputWidgets": {},
     "nuid": "6ae0abf3-3fa5-4482-91f9-1cccdf54a77a",
     "showTitle": false,
     "tableResultSettingsMap": {},
     "title": ""
    }
   },
   "outputs": [],
   "source": [
    "incremental_flag = dbutils.widgets.get('incremental_flag')"
   ]
  },
  {
   "cell_type": "markdown",
   "metadata": {
    "application/vnd.databricks.v1+cell": {
     "cellMetadata": {},
     "inputWidgets": {},
     "nuid": "d975baf2-42bb-4d9c-adb9-f1d28c0dcecc",
     "showTitle": false,
     "tableResultSettingsMap": {},
     "title": ""
    }
   },
   "source": [
    "# Creating dimensional model"
   ]
  },
  {
   "cell_type": "markdown",
   "metadata": {
    "application/vnd.databricks.v1+cell": {
     "cellMetadata": {},
     "inputWidgets": {},
     "nuid": "c3d05db9-293b-4b3e-874a-78116dd682f1",
     "showTitle": false,
     "tableResultSettingsMap": {},
     "title": ""
    }
   },
   "source": [
    "### Fetch Relative Columns"
   ]
  },
  {
   "cell_type": "code",
   "execution_count": 0,
   "metadata": {
    "application/vnd.databricks.v1+cell": {
     "cellMetadata": {
      "byteLimit": 2048000,
      "implicitDf": true,
      "rowLimit": 10000
     },
     "inputWidgets": {},
     "nuid": "86519714-b026-46cf-b2d5-6bf7a6b66dc0",
     "showTitle": false,
     "tableResultSettingsMap": {},
     "title": ""
    }
   },
   "outputs": [],
   "source": [
    "\n",
    "df_source= spark.sql(f'''\n",
    "    with CTE as(\n",
    "        select \n",
    "            row_number() over (partition by Dealer_ID order by Date_ID desc) as row_num,\n",
    "            Dealer_ID,\n",
    "            DealerName\n",
    "        from parquet.`{adls_silver}/car_sales/{date_id}`\n",
    "    )\n",
    "    select * from CTE\n",
    "    where row_num = 1\n",
    "''')"
   ]
  },
  {
   "cell_type": "code",
   "execution_count": 0,
   "metadata": {
    "application/vnd.databricks.v1+cell": {
     "cellMetadata": {
      "byteLimit": 2048000,
      "rowLimit": 10000
     },
     "inputWidgets": {},
     "nuid": "cfb3c9c3-4d00-4677-870b-1bab9b27dc66",
     "showTitle": false,
     "tableResultSettingsMap": {},
     "title": ""
    }
   },
   "outputs": [
    {
     "output_type": "display_data",
     "data": {
      "text/html": [
       "<style scoped>\n",
       "  .table-result-container {\n",
       "    max-height: 300px;\n",
       "    overflow: auto;\n",
       "  }\n",
       "  table, th, td {\n",
       "    border: 1px solid black;\n",
       "    border-collapse: collapse;\n",
       "  }\n",
       "  th, td {\n",
       "    padding: 5px;\n",
       "  }\n",
       "  th {\n",
       "    text-align: left;\n",
       "  }\n",
       "</style><div class='table-result-container'><table class='table-result'><thead style='background-color: white'><tr><th>Dealer_ID</th><th>DealerName</th></tr></thead><tbody><tr><td>DLR0058</td><td>Fiat do Brasil Motors</td></tr><tr><td>DLR0107</td><td>Land Rover Motors</td></tr><tr><td>DLR0129</td><td>Mia Motors</td></tr><tr><td>DLR0111</td><td>Lotus Motors</td></tr><tr><td>DLR0085</td><td>Humber Motors</td></tr><tr><td>DLR0001</td><td>AC Cars Motors</td></tr><tr><td>DLR0218</td><td>Lagonda  Motors</td></tr><tr><td>DLR0082</td><td>Honda Motors</td></tr><tr><td>DLR0063</td><td>Ford do Brasil Motors</td></tr><tr><td>DLR0193</td><td>Tazzari Motors</td></tr></tbody></table></div>"
      ]
     },
     "metadata": {
      "application/vnd.databricks.v1+output": {
       "addedWidgets": {},
       "aggData": [],
       "aggError": "",
       "aggOverflow": false,
       "aggSchema": [],
       "aggSeriesLimitReached": false,
       "aggType": "",
       "arguments": {},
       "columnCustomDisplayInfos": {},
       "data": [
        [
         "DLR0058",
         "Fiat do Brasil Motors"
        ],
        [
         "DLR0107",
         "Land Rover Motors"
        ],
        [
         "DLR0129",
         "Mia Motors"
        ],
        [
         "DLR0111",
         "Lotus Motors"
        ],
        [
         "DLR0085",
         "Humber Motors"
        ],
        [
         "DLR0001",
         "AC Cars Motors"
        ],
        [
         "DLR0218",
         "Lagonda  Motors"
        ],
        [
         "DLR0082",
         "Honda Motors"
        ],
        [
         "DLR0063",
         "Ford do Brasil Motors"
        ],
        [
         "DLR0193",
         "Tazzari Motors"
        ]
       ],
       "datasetInfos": [],
       "dbfsResultPath": null,
       "isJsonSchema": true,
       "metadata": {},
       "overflow": false,
       "plotOptions": {
        "customPlotOptions": {},
        "displayType": "table",
        "pivotAggregation": null,
        "pivotColumns": null,
        "xColumns": null,
        "yColumns": null
       },
       "removedWidgets": [],
       "schema": [
        {
         "metadata": "{}",
         "name": "Dealer_ID",
         "type": "\"string\""
        },
        {
         "metadata": "{}",
         "name": "DealerName",
         "type": "\"string\""
        }
       ],
       "type": "table"
      }
     },
     "output_type": "display_data"
    }
   ],
   "source": [
    "df_source.limit(10).display()"
   ]
  },
  {
   "cell_type": "markdown",
   "metadata": {
    "application/vnd.databricks.v1+cell": {
     "cellMetadata": {},
     "inputWidgets": {},
     "nuid": "b99291d1-5a3f-44e2-ace9-9d3fcb216d1b",
     "showTitle": false,
     "tableResultSettingsMap": {},
     "title": ""
    }
   },
   "source": [
    "### Dim_branch sink - Initial and incremental"
   ]
  },
  {
   "cell_type": "code",
   "execution_count": 0,
   "metadata": {
    "application/vnd.databricks.v1+cell": {
     "cellMetadata": {
      "byteLimit": 2048000,
      "rowLimit": 10000
     },
     "inputWidgets": {},
     "nuid": "a4051830-2162-4ae5-8d8b-b371e15f8c0b",
     "showTitle": false,
     "tableResultSettingsMap": {},
     "title": ""
    }
   },
   "outputs": [],
   "source": [
    "if spark.catalog.tableExists('cars_catalog.gold.dim_dealer'):\n",
    "  df_sink = spark.sql(f'''\n",
    "                            select * from cars_catalog.gold.dim_dealer\n",
    "                            ''')\n",
    "else:\n",
    "    df_sink = spark.sql(f'''\n",
    "                            select 1 as dim_dealer_key, Dealer_ID, DealerName \n",
    "                            from parquet.`{adls_silver}/car_sales/{date_id}`\n",
    "                            where 1=0 \n",
    "                            ''')"
   ]
  },
  {
   "cell_type": "markdown",
   "metadata": {
    "application/vnd.databricks.v1+cell": {
     "cellMetadata": {},
     "inputWidgets": {},
     "nuid": "24b536c2-8bc5-4483-821c-b9b18d39d483",
     "showTitle": false,
     "tableResultSettingsMap": {},
     "title": ""
    }
   },
   "source": [
    "### Filtering new records and old records"
   ]
  },
  {
   "cell_type": "code",
   "execution_count": 0,
   "metadata": {
    "application/vnd.databricks.v1+cell": {
     "cellMetadata": {
      "byteLimit": 2048000,
      "rowLimit": 10000
     },
     "inputWidgets": {},
     "nuid": "879886f9-6656-4e8f-9d74-d0e3598f42c5",
     "showTitle": false,
     "tableResultSettingsMap": {},
     "title": ""
    }
   },
   "outputs": [],
   "source": [
    "df_filter = df_source \\\n",
    ".join(df_sink, df_source['Dealer_ID']== df_sink['Dealer_ID'], 'left') \\\n",
    ".select(\n",
    "    df_source['Dealer_ID'], \n",
    "    df_source['DealerName'],\n",
    "    df_sink['dim_dealer_key']\n",
    ")"
   ]
  },
  {
   "cell_type": "code",
   "execution_count": 0,
   "metadata": {
    "application/vnd.databricks.v1+cell": {
     "cellMetadata": {
      "byteLimit": 2048000,
      "rowLimit": 10000
     },
     "inputWidgets": {},
     "nuid": "4fc6a09f-fa8c-407d-9802-2b8ea7e9a4bc",
     "showTitle": false,
     "tableResultSettingsMap": {},
     "title": ""
    }
   },
   "outputs": [
    {
     "output_type": "display_data",
     "data": {
      "text/html": [
       "<style scoped>\n",
       "  .table-result-container {\n",
       "    max-height: 300px;\n",
       "    overflow: auto;\n",
       "  }\n",
       "  table, th, td {\n",
       "    border: 1px solid black;\n",
       "    border-collapse: collapse;\n",
       "  }\n",
       "  th, td {\n",
       "    padding: 5px;\n",
       "  }\n",
       "  th {\n",
       "    text-align: left;\n",
       "  }\n",
       "</style><div class='table-result-container'><table class='table-result'><thead style='background-color: white'><tr><th>Dealer_ID</th><th>DealerName</th><th>dim_dealer_key</th></tr></thead><tbody><tr><td>DLR0058</td><td>Fiat do Brasil Motors</td><td>1</td></tr><tr><td>DLR0107</td><td>Land Rover Motors</td><td>2</td></tr><tr><td>DLR0129</td><td>Mia Motors</td><td>3</td></tr><tr><td>DLR0111</td><td>Lotus Motors</td><td>4</td></tr><tr><td>DLR0085</td><td>Humber Motors</td><td>5</td></tr><tr><td>DLR0001</td><td>AC Cars Motors</td><td>6</td></tr><tr><td>DLR0218</td><td>Lagonda  Motors</td><td>7</td></tr><tr><td>DLR0082</td><td>Honda Motors</td><td>8</td></tr><tr><td>DLR0063</td><td>Ford do Brasil Motors</td><td>9</td></tr><tr><td>DLR0193</td><td>Tazzari Motors</td><td>10</td></tr></tbody></table></div>"
      ]
     },
     "metadata": {
      "application/vnd.databricks.v1+output": {
       "addedWidgets": {},
       "aggData": [],
       "aggError": "",
       "aggOverflow": false,
       "aggSchema": [],
       "aggSeriesLimitReached": false,
       "aggType": "",
       "arguments": {},
       "columnCustomDisplayInfos": {},
       "data": [
        [
         "DLR0058",
         "Fiat do Brasil Motors",
         1
        ],
        [
         "DLR0107",
         "Land Rover Motors",
         2
        ],
        [
         "DLR0129",
         "Mia Motors",
         3
        ],
        [
         "DLR0111",
         "Lotus Motors",
         4
        ],
        [
         "DLR0085",
         "Humber Motors",
         5
        ],
        [
         "DLR0001",
         "AC Cars Motors",
         6
        ],
        [
         "DLR0218",
         "Lagonda  Motors",
         7
        ],
        [
         "DLR0082",
         "Honda Motors",
         8
        ],
        [
         "DLR0063",
         "Ford do Brasil Motors",
         9
        ],
        [
         "DLR0193",
         "Tazzari Motors",
         10
        ]
       ],
       "datasetInfos": [],
       "dbfsResultPath": null,
       "isJsonSchema": true,
       "metadata": {},
       "overflow": false,
       "plotOptions": {
        "customPlotOptions": {},
        "displayType": "table",
        "pivotAggregation": null,
        "pivotColumns": null,
        "xColumns": null,
        "yColumns": null
       },
       "removedWidgets": [],
       "schema": [
        {
         "metadata": "{}",
         "name": "Dealer_ID",
         "type": "\"string\""
        },
        {
         "metadata": "{}",
         "name": "DealerName",
         "type": "\"string\""
        },
        {
         "metadata": "{}",
         "name": "dim_dealer_key",
         "type": "\"long\""
        }
       ],
       "type": "table"
      }
     },
     "output_type": "display_data"
    }
   ],
   "source": [
    "df_filter.limit(10).display()"
   ]
  },
  {
   "cell_type": "markdown",
   "metadata": {
    "application/vnd.databricks.v1+cell": {
     "cellMetadata": {},
     "inputWidgets": {},
     "nuid": "64474fd0-7c9c-4097-962a-d0386cf34282",
     "showTitle": false,
     "tableResultSettingsMap": {},
     "title": ""
    }
   },
   "source": [
    "**df_filter_old**"
   ]
  },
  {
   "cell_type": "code",
   "execution_count": 0,
   "metadata": {
    "application/vnd.databricks.v1+cell": {
     "cellMetadata": {
      "byteLimit": 2048000,
      "rowLimit": 10000
     },
     "inputWidgets": {},
     "nuid": "feb3117d-dd86-4772-b18e-3453d77acb76",
     "showTitle": false,
     "tableResultSettingsMap": {},
     "title": ""
    }
   },
   "outputs": [],
   "source": [
    "df_filter_old = df_filter.filter(col('dim_dealer_key').isNotNull())"
   ]
  },
  {
   "cell_type": "code",
   "execution_count": 0,
   "metadata": {
    "application/vnd.databricks.v1+cell": {
     "cellMetadata": {
      "byteLimit": 2048000,
      "rowLimit": 10000
     },
     "inputWidgets": {},
     "nuid": "588b3ead-57ab-4e01-87c9-25a8bea7c7f5",
     "showTitle": false,
     "tableResultSettingsMap": {},
     "title": ""
    }
   },
   "outputs": [
    {
     "output_type": "display_data",
     "data": {
      "text/html": [
       "<style scoped>\n",
       "  .table-result-container {\n",
       "    max-height: 300px;\n",
       "    overflow: auto;\n",
       "  }\n",
       "  table, th, td {\n",
       "    border: 1px solid black;\n",
       "    border-collapse: collapse;\n",
       "  }\n",
       "  th, td {\n",
       "    padding: 5px;\n",
       "  }\n",
       "  th {\n",
       "    text-align: left;\n",
       "  }\n",
       "</style><div class='table-result-container'><table class='table-result'><thead style='background-color: white'><tr><th>Dealer_ID</th><th>DealerName</th><th>dim_dealer_key</th></tr></thead><tbody></tbody></table></div>"
      ]
     },
     "metadata": {
      "application/vnd.databricks.v1+output": {
       "addedWidgets": {},
       "aggData": [],
       "aggError": "",
       "aggOverflow": false,
       "aggSchema": [],
       "aggSeriesLimitReached": false,
       "aggType": "",
       "arguments": {},
       "columnCustomDisplayInfos": {},
       "data": [],
       "datasetInfos": [],
       "dbfsResultPath": null,
       "isJsonSchema": true,
       "metadata": {},
       "overflow": false,
       "plotOptions": {
        "customPlotOptions": {},
        "displayType": "table",
        "pivotAggregation": null,
        "pivotColumns": null,
        "xColumns": null,
        "yColumns": null
       },
       "removedWidgets": [],
       "schema": [
        {
         "metadata": "{}",
         "name": "Dealer_ID",
         "type": "\"string\""
        },
        {
         "metadata": "{}",
         "name": "DealerName",
         "type": "\"string\""
        },
        {
         "metadata": "{}",
         "name": "dim_dealer_key",
         "type": "\"integer\""
        }
       ],
       "type": "table"
      }
     },
     "output_type": "display_data"
    }
   ],
   "source": [
    "df_filter_old.display()"
   ]
  },
  {
   "cell_type": "markdown",
   "metadata": {
    "application/vnd.databricks.v1+cell": {
     "cellMetadata": {},
     "inputWidgets": {},
     "nuid": "b960a79c-4ee5-421d-8c6e-ac54cf018fab",
     "showTitle": false,
     "tableResultSettingsMap": {},
     "title": ""
    }
   },
   "source": [
    "**df_filter_new**"
   ]
  },
  {
   "cell_type": "code",
   "execution_count": 0,
   "metadata": {
    "application/vnd.databricks.v1+cell": {
     "cellMetadata": {
      "byteLimit": 2048000,
      "rowLimit": 10000
     },
     "inputWidgets": {},
     "nuid": "e67c18b7-8c8a-4f26-9352-7efe4a1fcf04",
     "showTitle": false,
     "tableResultSettingsMap": {},
     "title": ""
    }
   },
   "outputs": [],
   "source": [
    "df_filter_new = df_filter.filter(col('dim_dealer_key').isNull()).select('Dealer_ID', df_source['DealerName'])"
   ]
  },
  {
   "cell_type": "markdown",
   "metadata": {
    "application/vnd.databricks.v1+cell": {
     "cellMetadata": {
      "byteLimit": 2048000,
      "rowLimit": 10000
     },
     "inputWidgets": {},
     "nuid": "36f38cc3-faf0-411c-9475-205e813bf177",
     "showTitle": false,
     "tableResultSettingsMap": {},
     "title": ""
    }
   },
   "source": [
    "### Create surrogate key"
   ]
  },
  {
   "cell_type": "code",
   "execution_count": 0,
   "metadata": {
    "application/vnd.databricks.v1+cell": {
     "cellMetadata": {
      "byteLimit": 2048000,
      "rowLimit": 10000
     },
     "inputWidgets": {},
     "nuid": "90631a6d-e2b9-4fed-acbb-3d7360bc0473",
     "showTitle": false,
     "tableResultSettingsMap": {},
     "title": ""
    }
   },
   "outputs": [],
   "source": [
    "# Fetch the max surrogate key from existing table\n",
    "if (incremental_flag == '0'):\n",
    "    max_dim_key = 0\n",
    "else:\n",
    "    max_dim_key = spark.sql('select max(dim_dealer_key) from cars_catalog.gold.dim_dealer').collect()[0][0]\n"
   ]
  },
  {
   "cell_type": "markdown",
   "metadata": {
    "application/vnd.databricks.v1+cell": {
     "cellMetadata": {},
     "inputWidgets": {},
     "nuid": "df86b6c1-c538-4cc6-8989-32c12170ad97",
     "showTitle": false,
     "tableResultSettingsMap": {},
     "title": ""
    }
   },
   "source": [
    "**Create surrogate key column and add the max surrogate key**"
   ]
  },
  {
   "cell_type": "code",
   "execution_count": 0,
   "metadata": {
    "application/vnd.databricks.v1+cell": {
     "cellMetadata": {
      "byteLimit": 2048000,
      "rowLimit": 10000
     },
     "inputWidgets": {},
     "nuid": "96731d79-c302-49e4-829e-2cea5cf7c13a",
     "showTitle": false,
     "tableResultSettingsMap": {},
     "title": ""
    }
   },
   "outputs": [],
   "source": [
    "#Spark sql row_number\n",
    "\n",
    "# spark.sql(f'''\n",
    "# select row_number() over (order by 1) as dim_key, Model_ID, model_category  \n",
    "# from parquet.`{adls_silver}/car_sales`\n",
    "# ''').display()"
   ]
  },
  {
   "cell_type": "code",
   "execution_count": 0,
   "metadata": {
    "application/vnd.databricks.v1+cell": {
     "cellMetadata": {
      "byteLimit": 2048000,
      "rowLimit": 10000
     },
     "inputWidgets": {},
     "nuid": "0b6b29ea-68b1-4dcd-81db-4634817c0e86",
     "showTitle": false,
     "tableResultSettingsMap": {},
     "title": ""
    }
   },
   "outputs": [],
   "source": [
    "#Window function\n",
    "# df_filter_new = df_filer_new.withColumn('dim_model_key', max_dim_model_key + row_number().over(Window.orderBy(lit(1))))\n",
    "\n",
    "#monotonically_increasing_id\n",
    "df_filter_new = df_filter_new.withColumn('dim_dealer_key',max_dim_key+1+monotonically_increasing_id())"
   ]
  },
  {
   "cell_type": "code",
   "execution_count": 0,
   "metadata": {
    "application/vnd.databricks.v1+cell": {
     "cellMetadata": {
      "byteLimit": 2048000,
      "rowLimit": 10000
     },
     "inputWidgets": {},
     "nuid": "0f88dd8d-57e6-4c6e-8eec-17026b0a2827",
     "showTitle": false,
     "tableResultSettingsMap": {},
     "title": ""
    }
   },
   "outputs": [
    {
     "output_type": "display_data",
     "data": {
      "text/html": [
       "<style scoped>\n",
       "  .table-result-container {\n",
       "    max-height: 300px;\n",
       "    overflow: auto;\n",
       "  }\n",
       "  table, th, td {\n",
       "    border: 1px solid black;\n",
       "    border-collapse: collapse;\n",
       "  }\n",
       "  th, td {\n",
       "    padding: 5px;\n",
       "  }\n",
       "  th {\n",
       "    text-align: left;\n",
       "  }\n",
       "</style><div class='table-result-container'><table class='table-result'><thead style='background-color: white'><tr><th>Dealer_ID</th><th>DealerName</th><th>dim_dealer_key</th></tr></thead><tbody><tr><td>DLR0058</td><td>Fiat do Brasil Motors</td><td>1</td></tr><tr><td>DLR0107</td><td>Land Rover Motors</td><td>2</td></tr><tr><td>DLR0129</td><td>Mia Motors</td><td>3</td></tr><tr><td>DLR0111</td><td>Lotus Motors</td><td>4</td></tr><tr><td>DLR0085</td><td>Humber Motors</td><td>5</td></tr><tr><td>DLR0001</td><td>AC Cars Motors</td><td>6</td></tr><tr><td>DLR0218</td><td>Lagonda  Motors</td><td>7</td></tr><tr><td>DLR0082</td><td>Honda Motors</td><td>8</td></tr><tr><td>DLR0063</td><td>Ford do Brasil Motors</td><td>9</td></tr><tr><td>DLR0193</td><td>Tazzari Motors</td><td>10</td></tr></tbody></table></div>"
      ]
     },
     "metadata": {
      "application/vnd.databricks.v1+output": {
       "addedWidgets": {},
       "aggData": [],
       "aggError": "",
       "aggOverflow": false,
       "aggSchema": [],
       "aggSeriesLimitReached": false,
       "aggType": "",
       "arguments": {},
       "columnCustomDisplayInfos": {},
       "data": [
        [
         "DLR0058",
         "Fiat do Brasil Motors",
         1
        ],
        [
         "DLR0107",
         "Land Rover Motors",
         2
        ],
        [
         "DLR0129",
         "Mia Motors",
         3
        ],
        [
         "DLR0111",
         "Lotus Motors",
         4
        ],
        [
         "DLR0085",
         "Humber Motors",
         5
        ],
        [
         "DLR0001",
         "AC Cars Motors",
         6
        ],
        [
         "DLR0218",
         "Lagonda  Motors",
         7
        ],
        [
         "DLR0082",
         "Honda Motors",
         8
        ],
        [
         "DLR0063",
         "Ford do Brasil Motors",
         9
        ],
        [
         "DLR0193",
         "Tazzari Motors",
         10
        ]
       ],
       "datasetInfos": [],
       "dbfsResultPath": null,
       "isJsonSchema": true,
       "metadata": {},
       "overflow": false,
       "plotOptions": {
        "customPlotOptions": {},
        "displayType": "table",
        "pivotAggregation": null,
        "pivotColumns": null,
        "xColumns": null,
        "yColumns": null
       },
       "removedWidgets": [],
       "schema": [
        {
         "metadata": "{}",
         "name": "Dealer_ID",
         "type": "\"string\""
        },
        {
         "metadata": "{}",
         "name": "DealerName",
         "type": "\"string\""
        },
        {
         "metadata": "{}",
         "name": "dim_dealer_key",
         "type": "\"long\""
        }
       ],
       "type": "table"
      }
     },
     "output_type": "display_data"
    }
   ],
   "source": [
    "df_filter_new.limit(10).display()"
   ]
  },
  {
   "cell_type": "markdown",
   "metadata": {
    "application/vnd.databricks.v1+cell": {
     "cellMetadata": {},
     "inputWidgets": {},
     "nuid": "3bec800b-4f59-4327-80a4-4d8785843979",
     "showTitle": false,
     "tableResultSettingsMap": {},
     "title": ""
    }
   },
   "source": [
    "### Merge df_filter_old + df_filter_new"
   ]
  },
  {
   "cell_type": "code",
   "execution_count": 0,
   "metadata": {
    "application/vnd.databricks.v1+cell": {
     "cellMetadata": {
      "byteLimit": 2048000,
      "rowLimit": 10000
     },
     "inputWidgets": {},
     "nuid": "3aed0660-1baf-4b8c-94cf-11171ebdd2a3",
     "showTitle": false,
     "tableResultSettingsMap": {},
     "title": ""
    }
   },
   "outputs": [],
   "source": [
    "df_final = df_filter_old.union(df_filter_new)"
   ]
  },
  {
   "cell_type": "code",
   "execution_count": 0,
   "metadata": {
    "application/vnd.databricks.v1+cell": {
     "cellMetadata": {
      "byteLimit": 2048000,
      "rowLimit": 10000
     },
     "inputWidgets": {},
     "nuid": "12e884c9-d9a2-414a-8382-5afa65ccb84d",
     "showTitle": false,
     "tableResultSettingsMap": {},
     "title": ""
    }
   },
   "outputs": [
    {
     "output_type": "display_data",
     "data": {
      "text/html": [
       "<style scoped>\n",
       "  .table-result-container {\n",
       "    max-height: 300px;\n",
       "    overflow: auto;\n",
       "  }\n",
       "  table, th, td {\n",
       "    border: 1px solid black;\n",
       "    border-collapse: collapse;\n",
       "  }\n",
       "  th, td {\n",
       "    padding: 5px;\n",
       "  }\n",
       "  th {\n",
       "    text-align: left;\n",
       "  }\n",
       "</style><div class='table-result-container'><table class='table-result'><thead style='background-color: white'><tr><th>Dealer_ID</th><th>DealerName</th><th>dim_dealer_key</th></tr></thead><tbody><tr><td>DLR0058</td><td>Fiat do Brasil Motors</td><td>1</td></tr><tr><td>DLR0107</td><td>Land Rover Motors</td><td>2</td></tr><tr><td>DLR0129</td><td>Mia Motors</td><td>3</td></tr><tr><td>DLR0111</td><td>Lotus Motors</td><td>4</td></tr><tr><td>DLR0085</td><td>Humber Motors</td><td>5</td></tr><tr><td>DLR0001</td><td>AC Cars Motors</td><td>6</td></tr><tr><td>DLR0218</td><td>Lagonda  Motors</td><td>7</td></tr><tr><td>DLR0082</td><td>Honda Motors</td><td>8</td></tr><tr><td>DLR0063</td><td>Ford do Brasil Motors</td><td>9</td></tr><tr><td>DLR0193</td><td>Tazzari Motors</td><td>10</td></tr></tbody></table></div>"
      ]
     },
     "metadata": {
      "application/vnd.databricks.v1+output": {
       "addedWidgets": {},
       "aggData": [],
       "aggError": "",
       "aggOverflow": false,
       "aggSchema": [],
       "aggSeriesLimitReached": false,
       "aggType": "",
       "arguments": {},
       "columnCustomDisplayInfos": {},
       "data": [
        [
         "DLR0058",
         "Fiat do Brasil Motors",
         1
        ],
        [
         "DLR0107",
         "Land Rover Motors",
         2
        ],
        [
         "DLR0129",
         "Mia Motors",
         3
        ],
        [
         "DLR0111",
         "Lotus Motors",
         4
        ],
        [
         "DLR0085",
         "Humber Motors",
         5
        ],
        [
         "DLR0001",
         "AC Cars Motors",
         6
        ],
        [
         "DLR0218",
         "Lagonda  Motors",
         7
        ],
        [
         "DLR0082",
         "Honda Motors",
         8
        ],
        [
         "DLR0063",
         "Ford do Brasil Motors",
         9
        ],
        [
         "DLR0193",
         "Tazzari Motors",
         10
        ]
       ],
       "datasetInfos": [],
       "dbfsResultPath": null,
       "isJsonSchema": true,
       "metadata": {},
       "overflow": false,
       "plotOptions": {
        "customPlotOptions": {},
        "displayType": "table",
        "pivotAggregation": null,
        "pivotColumns": null,
        "xColumns": null,
        "yColumns": null
       },
       "removedWidgets": [],
       "schema": [
        {
         "metadata": "{}",
         "name": "Dealer_ID",
         "type": "\"string\""
        },
        {
         "metadata": "{}",
         "name": "DealerName",
         "type": "\"string\""
        },
        {
         "metadata": "{}",
         "name": "dim_dealer_key",
         "type": "\"long\""
        }
       ],
       "type": "table"
      }
     },
     "output_type": "display_data"
    }
   ],
   "source": [
    "df_final.limit(10).display()"
   ]
  },
  {
   "cell_type": "markdown",
   "metadata": {
    "application/vnd.databricks.v1+cell": {
     "cellMetadata": {},
     "inputWidgets": {},
     "nuid": "1480d428-7af3-45b7-bf0f-72dd843c660d",
     "showTitle": false,
     "tableResultSettingsMap": {},
     "title": ""
    }
   },
   "source": [
    "# SCD Type 1 (Upsert)"
   ]
  },
  {
   "cell_type": "code",
   "execution_count": 0,
   "metadata": {
    "application/vnd.databricks.v1+cell": {
     "cellMetadata": {
      "byteLimit": 2048000,
      "rowLimit": 10000
     },
     "inputWidgets": {},
     "nuid": "e4948160-b43a-496f-8901-824b53feb678",
     "showTitle": false,
     "tableResultSettingsMap": {},
     "title": ""
    }
   },
   "outputs": [],
   "source": [
    "if spark.catalog.tableExists(\"cars_catalog.gold.dim_dealer\"):\n",
    "    delta_tbl = DeltaTable.forPath(spark, f'{adls_gold}/dim_dealer')\n",
    "    delta_tbl.alias('target').merge(df_final.alias('source'), 'target.dim_dealer_key = source.dim_dealer_key') \\\n",
    "        .whenMatchedUpdateAll() \\\n",
    "        .whenNotMatchedInsertAll()\\\n",
    "        .execute()\n",
    "else:\n",
    "    df_final.write.format('delta')\\\n",
    "    .mode('overwrite')\\\n",
    "    .option('path',f'{adls_gold}/dim_dealer')\\\n",
    "    .saveAsTable('cars_catalog.gold.dim_dealer')"
   ]
  },
  {
   "cell_type": "code",
   "execution_count": 0,
   "metadata": {
    "application/vnd.databricks.v1+cell": {
     "cellMetadata": {
      "byteLimit": 2048000,
      "implicitDf": true,
      "rowLimit": 10000
     },
     "inputWidgets": {},
     "nuid": "2fec2e61-912d-4bcc-95d5-46a49b2b5092",
     "showTitle": false,
     "tableResultSettingsMap": {},
     "title": ""
    }
   },
   "outputs": [
    {
     "output_type": "display_data",
     "data": {
      "text/html": [
       "<style scoped>\n",
       "  .table-result-container {\n",
       "    max-height: 300px;\n",
       "    overflow: auto;\n",
       "  }\n",
       "  table, th, td {\n",
       "    border: 1px solid black;\n",
       "    border-collapse: collapse;\n",
       "  }\n",
       "  th, td {\n",
       "    padding: 5px;\n",
       "  }\n",
       "  th {\n",
       "    text-align: left;\n",
       "  }\n",
       "</style><div class='table-result-container'><table class='table-result'><thead style='background-color: white'><tr><th>Dealer_ID</th><th>DealerName</th><th>dim_dealer_key</th></tr></thead><tbody><tr><td>DLR0058</td><td>Fiat do Brasil Motors</td><td>1</td></tr><tr><td>DLR0107</td><td>Land Rover Motors</td><td>2</td></tr><tr><td>DLR0129</td><td>Mia Motors</td><td>3</td></tr><tr><td>DLR0111</td><td>Lotus Motors</td><td>4</td></tr><tr><td>DLR0085</td><td>Humber Motors</td><td>5</td></tr><tr><td>DLR0001</td><td>AC Cars Motors</td><td>6</td></tr><tr><td>DLR0218</td><td>Lagonda  Motors</td><td>7</td></tr><tr><td>DLR0082</td><td>Honda Motors</td><td>8</td></tr><tr><td>DLR0063</td><td>Ford do Brasil Motors</td><td>9</td></tr><tr><td>DLR0193</td><td>Tazzari Motors</td><td>10</td></tr></tbody></table></div>"
      ]
     },
     "metadata": {
      "application/vnd.databricks.v1+output": {
       "addedWidgets": {},
       "aggData": [],
       "aggError": "",
       "aggOverflow": false,
       "aggSchema": [],
       "aggSeriesLimitReached": false,
       "aggType": "",
       "arguments": {},
       "columnCustomDisplayInfos": {},
       "data": [
        [
         "DLR0058",
         "Fiat do Brasil Motors",
         1
        ],
        [
         "DLR0107",
         "Land Rover Motors",
         2
        ],
        [
         "DLR0129",
         "Mia Motors",
         3
        ],
        [
         "DLR0111",
         "Lotus Motors",
         4
        ],
        [
         "DLR0085",
         "Humber Motors",
         5
        ],
        [
         "DLR0001",
         "AC Cars Motors",
         6
        ],
        [
         "DLR0218",
         "Lagonda  Motors",
         7
        ],
        [
         "DLR0082",
         "Honda Motors",
         8
        ],
        [
         "DLR0063",
         "Ford do Brasil Motors",
         9
        ],
        [
         "DLR0193",
         "Tazzari Motors",
         10
        ]
       ],
       "datasetInfos": [],
       "dbfsResultPath": null,
       "isJsonSchema": true,
       "metadata": {
        "createTempViewForImplicitDf": true,
        "dataframeName": "_sqldf",
        "executionCount": 50
       },
       "overflow": false,
       "plotOptions": {
        "customPlotOptions": {},
        "displayType": "table",
        "pivotAggregation": null,
        "pivotColumns": null,
        "xColumns": null,
        "yColumns": null
       },
       "removedWidgets": [],
       "schema": [
        {
         "metadata": "{}",
         "name": "Dealer_ID",
         "type": "\"string\""
        },
        {
         "metadata": "{}",
         "name": "DealerName",
         "type": "\"string\""
        },
        {
         "metadata": "{}",
         "name": "dim_dealer_key",
         "type": "\"long\""
        }
       ],
       "type": "table"
      }
     },
     "output_type": "display_data"
    }
   ],
   "source": [
    "%sql\n",
    "select * from cars_catalog.gold.dim_dealer limit 10 "
   ]
  }
 ],
 "metadata": {
  "application/vnd.databricks.v1+notebook": {
   "computePreferences": null,
   "dashboards": [],
   "environmentMetadata": {
    "base_environment": "",
    "client": "1"
   },
   "language": "python",
   "notebookMetadata": {
    "mostRecentlyExecutedCommandWithImplicitDF": {
     "commandId": 3555435371246725,
     "dataframes": [
      "_sqldf"
     ]
    },
    "pythonIndentUnit": 4
   },
   "notebookName": "gold_dim_dealer",
   "widgets": {
    "date_id": {
     "currentValue": "",
     "nuid": "74852c22-83fb-417b-9458-babf922cd262",
     "typedWidgetInfo": {
      "autoCreated": false,
      "defaultValue": "",
      "label": "",
      "name": "date_id",
      "options": {
       "widgetDisplayType": "Text",
       "validationRegex": null
      },
      "parameterDataType": "String"
     },
     "widgetInfo": {
      "widgetType": "text",
      "defaultValue": "",
      "label": "",
      "name": "date_id",
      "options": {
       "widgetType": "text",
       "autoCreated": false,
       "validationRegex": null
      }
     }
    },
    "incremental_flag": {
     "currentValue": "0",
     "nuid": "206c4388-f525-42b4-aa27-0bd0bfde72c8",
     "typedWidgetInfo": {
      "autoCreated": false,
      "defaultValue": "0",
      "label": null,
      "name": "incremental_flag",
      "options": {
       "widgetDisplayType": "Text",
       "validationRegex": null
      },
      "parameterDataType": "String"
     },
     "widgetInfo": {
      "widgetType": "text",
      "defaultValue": "0",
      "label": null,
      "name": "incremental_flag",
      "options": {
       "widgetType": "text",
       "autoCreated": null,
       "validationRegex": null
      }
     }
    }
   }
  },
  "language_info": {
   "name": "python"
  }
 },
 "nbformat": 4,
 "nbformat_minor": 0
}